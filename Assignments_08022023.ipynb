{
 "cells": [
  {
   "cell_type": "markdown",
   "id": "a9fa2981-d26a-4d07-a00f-fe89b92f338d",
   "metadata": {},
   "source": [
    "## Q1. What is Abstraction in OOps? Explain with an example."
   ]
  },
  {
   "cell_type": "markdown",
   "id": "1eda9534-09b9-4581-a3f6-f232c750c42e",
   "metadata": {},
   "source": [
    "### ANS\n",
    "In object-oriented programming (OOP), abstraction refers to the process of hiding complex implementation details from the user, and exposing only the relevant and necessary details through a simplified interface. It is a way of focusing on the essential features of an object, while ignoring the non-essential details.\n",
    "\n",
    "In Python, abstraction can be achieved through the use of abstract classes and interfaces. Abstract classes are classes that cannot be instantiated, but instead serve as templates for subclasses to inherit from. They define abstract methods, which are methods that have no implementation in the abstract class, but must be implemented by any concrete subclass that inherits from it.\n",
    "\n",
    "Here's an example of how abstraction can be used in Python:\n",
    "\n",
    "ruby\n"
   ]
  },
  {
   "cell_type": "code",
   "execution_count": null,
   "id": "d9856182-3c7b-481f-8b36-58f38897d3d9",
   "metadata": {},
   "outputs": [],
   "source": [
    "from abc import ABC, abstractmethod\n",
    "\n",
    "class Vehicle(ABC):\n",
    "    @abstractmethod\n",
    "    def start_engine(self):\n",
    "        pass\n",
    "\n",
    "class Car(Vehicle):\n",
    "    def start_engine(self):\n",
    "        print(\"Starting car engine\")\n",
    "\n",
    "class Motorcycle(Vehicle):\n",
    "    def start_engine(self):\n",
    "        print(\"Starting motorcycle engine\")"
   ]
  },
  {
   "cell_type": "code",
   "execution_count": null,
   "id": "75168a32-cde6-4977-9f6f-3ecb17a78e27",
   "metadata": {},
   "outputs": [],
   "source": []
  },
  {
   "cell_type": "markdown",
   "id": "16832a64-c9ee-4da9-975f-1be350863dee",
   "metadata": {},
   "source": [
    "## Q2. Differentiate between Abstraction and Encapsulation. Explain with an example."
   ]
  },
  {
   "cell_type": "markdown",
   "id": "c3895f1f-1aa8-4664-835e-de36988fdce0",
   "metadata": {},
   "source": [
    "Abstraction and Encapsulation are two important concepts in Object-Oriented Programming (OOP). While both concepts are related, they serve different purposes.\n",
    "\n",
    "Abstraction is the process of identifying the essential features of an object while ignoring the non-essential details. It involves hiding complex implementation details from the user and exposing only the relevant and necessary details through a simplified interface. Abstraction is achieved through abstract classes and interfaces in Python.\n",
    "\n",
    "On the other hand, Encapsulation is the process of wrapping data and methods into a single unit, such that the data is hidden from the outside world and can only be accessed through specific methods or functions. Encapsulation protects the data from unwanted modifications and ensures that the data is accessed only in a controlled manner.\n",
    "\n",
    "Let's see an example of how Abstraction and Encapsulation can be used in Python:"
   ]
  },
  {
   "cell_type": "code",
   "execution_count": null,
   "id": "aa682362-8871-4ed7-9185-a101db86a6d3",
   "metadata": {},
   "outputs": [],
   "source": [
    "from abc import ABC, abstractmethod\n",
    "\n",
    "class BankAccount(ABC):\n",
    "    def __init__(self, account_number, balance):\n",
    "        self._account_number = account_number\n",
    "        self._balance = balance\n",
    "\n",
    "    @abstractmethod\n",
    "    def deposit(self, amount):\n",
    "        pass\n",
    "\n",
    "    @abstractmethod\n",
    "    def withdraw(self, amount):\n",
    "        pass\n",
    "\n",
    "class SavingsAccount(BankAccount):\n",
    "    def __init__(self, account_number, balance):\n",
    "        super().__init__(account_number, balance)\n",
    "        self._interest_rate = 0.02\n",
    "\n",
    "    def deposit(self, amount):\n",
    "        self._balance += amount\n",
    "\n",
    "    def withdraw(self, amount):\n",
    "        if self._balance >= amount:\n",
    "            self._balance -= amount\n",
    "        else:\n",
    "            print(\"Insufficient balance\")\n",
    "\n",
    "    def calculate_interest(self):\n",
    "        return self._balance * self._interest_rate\n",
    "\n",
    "class CheckingAccount(BankAccount):\n",
    "    def __init__(self, account_number, balance):\n",
    "        super().__init__(account_number, balance)\n",
    "        self._transaction_fee = 0.01\n",
    "\n",
    "    def deposit(self, amount):\n",
    "        self._balance += amount\n",
    "\n",
    "    def withdraw(self, amount):\n",
    "        if self._balance >= amount + self._transaction_fee:\n",
    "            self._balance -= amount + self._transaction_fee\n",
    "        else:\n",
    "            print(\"Insufficient balance\")\n",
    "\n",
    "    def deduct_transaction_fee(self):\n",
    "        self._balance -= self._transaction_fee"
   ]
  },
  {
   "cell_type": "code",
   "execution_count": null,
   "id": "8f2ae96d-eba0-447e-8fca-03e53aa43b86",
   "metadata": {},
   "outputs": [],
   "source": []
  },
  {
   "cell_type": "markdown",
   "id": "681a73d4-163d-42d5-b92d-9998fd895d70",
   "metadata": {},
   "source": [
    "## Q3. What is abc module in python? Why is it used?"
   ]
  },
  {
   "cell_type": "markdown",
   "id": "8447b6a1-4b77-4087-a7fd-bc7b0e82d070",
   "metadata": {},
   "source": [
    "In Python, the abc module provides support for Abstract Base Classes (ABCs). An abstract base class is a class that cannot be instantiated directly but serves as a blueprint for other classes to inherit from. Abstract base classes define abstract methods, which are methods that have no implementation in the abstract class, but must be implemented by any concrete subclass that inherits from it.\n",
    "\n",
    "The abc module provides the ABC class, which can be used as a base class for defining abstract base classes. The abstractmethod decorator is used to define abstract methods in the abstract base class.\n",
    "\n",
    "The abc module is used to enforce a common interface for a group of related classes, making it easier to write code that works with all of them. By defining an abstract base class, we can ensure that any concrete subclass that inherits from it provides the necessary implementation for the abstract methods, without having to worry about the details of each individual subclass. This improves code maintainability and reduces the likelihood of errors caused by missing or incomplete implementations."
   ]
  },
  {
   "cell_type": "code",
   "execution_count": null,
   "id": "8c736ce5-9581-441f-a20e-fe14c35e7a2b",
   "metadata": {},
   "outputs": [],
   "source": []
  },
  {
   "cell_type": "markdown",
   "id": "77974b50-4f1c-42fb-bd95-83c11309ff1f",
   "metadata": {},
   "source": [
    "## Q4. How can we achieve data abstraction?"
   ]
  },
  {
   "cell_type": "markdown",
   "id": "017f197e-35f0-464b-8d88-feb954548bf8",
   "metadata": {},
   "source": [
    "In object-oriented programming, data abstraction can be achieved by using abstract classes and interfaces. Abstract classes are classes that cannot be instantiated directly and provide a blueprint for other classes to inherit from. They can define abstract methods, which are methods that have no implementation in the abstract class, but must be implemented by any concrete subclass that inherits from it.\n",
    "\n",
    "Interfaces, on the other hand, are similar to abstract classes, but they can only define abstract methods and cannot have any implementation. They provide a contract for other classes to implement, ensuring that they have a certain set of methods with specific signatures.\n",
    "\n",
    "To achieve data abstraction, we can define abstract classes or interfaces that define a set of methods for accessing and manipulating data, but do not specify the details of how the data is stored or retrieved. Concrete subclasses can then provide their own implementation for these methods, while keeping the underlying data representation hidden."
   ]
  },
  {
   "cell_type": "code",
   "execution_count": null,
   "id": "ec5b4d7a-4802-4f3f-94f6-9e1267324535",
   "metadata": {},
   "outputs": [],
   "source": []
  },
  {
   "cell_type": "markdown",
   "id": "6fe897c7-e853-4910-8d1e-1948472a6fb7",
   "metadata": {},
   "source": [
    "## Q5. Can we create an instance of an abstract class? Explain your answer."
   ]
  },
  {
   "cell_type": "markdown",
   "id": "2f674a04-63e4-4e80-9aa9-9cdc66885b99",
   "metadata": {},
   "source": [
    "No, we cannot create an instance of an abstract class in Python. An abstract class is a class that contains one or more abstract methods, which are methods that have no implementation in the abstract class and must be implemented by any concrete subclass that inherits from it.\n",
    "\n",
    "Since an abstract class is not meant to be instantiated directly, attempting to do so will result in a TypeError. Instead, we can create instances of concrete subclasses that inherit from the abstract class and provide their own implementations for the abstract methods."
   ]
  },
  {
   "cell_type": "code",
   "execution_count": null,
   "id": "8e400fbb-12db-441f-93e5-70e642a55042",
   "metadata": {},
   "outputs": [],
   "source": []
  }
 ],
 "metadata": {
  "kernelspec": {
   "display_name": "Python 3 (ipykernel)",
   "language": "python",
   "name": "python3"
  },
  "language_info": {
   "codemirror_mode": {
    "name": "ipython",
    "version": 3
   },
   "file_extension": ".py",
   "mimetype": "text/x-python",
   "name": "python",
   "nbconvert_exporter": "python",
   "pygments_lexer": "ipython3",
   "version": "3.10.8"
  }
 },
 "nbformat": 4,
 "nbformat_minor": 5
}
