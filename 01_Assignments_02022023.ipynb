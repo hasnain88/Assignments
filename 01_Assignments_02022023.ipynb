{
 "cells": [
  {
   "cell_type": "markdown",
   "id": "d299d09f-7f1a-4c70-815a-e40ff654b631",
   "metadata": {},
   "source": [
    "### Q1. Explain with an example each when to use a for loop and a while loop."
   ]
  },
  {
   "cell_type": "markdown",
   "id": "8cae93a5-6bc9-4edf-bcd8-918c66c611cf",
   "metadata": {},
   "source": [
    "### Answer: "
   ]
  },
  {
   "cell_type": "markdown",
   "id": "68321add-63f9-4289-bfb6-b7fec8bdbb1a",
   "metadata": {},
   "source": [
    "A for loop is a control flow statement that executes code for a predefined number of iterations. When the number of iterations is already known, the for loop is used."
   ]
  },
  {
   "cell_type": "code",
   "execution_count": 6,
   "id": "12caff89-e026-4538-9e4b-f94b0cef4cb6",
   "metadata": {},
   "outputs": [
    {
     "name": "stdout",
     "output_type": "stream",
     "text": [
      "Input list elements:\n",
      "10\n",
      "20\n",
      "30\n",
      "40\n",
      "50\n"
     ]
    }
   ],
   "source": [
    "inputList = [10, 20, 30, 40, 50]\n",
    "print(\"Input list elements:\")\n",
    "for i in inputList:\n",
    "    print(i)"
   ]
  },
  {
   "cell_type": "markdown",
   "id": "2146c568-3012-4b99-8ad2-43028a11f849",
   "metadata": {},
   "source": [
    "A loop that runs a single statement or a set of statements for a given true condition. When the number of iterations is unknown, a \"while\" loop is used. The statement is repeated until the boolean value is false. Because the condition is tested at the beginning of a while loop, it is also known as the pre-test loop."
   ]
  },
  {
   "cell_type": "code",
   "execution_count": 7,
   "id": "6c61c358-f9ea-453c-a0b3-b3e9a1938136",
   "metadata": {},
   "outputs": [
    {
     "name": "stdout",
     "output_type": "stream",
     "text": [
      "1\n",
      "2\n",
      "3\n",
      "4\n",
      "5\n",
      "6\n",
      "7\n",
      "8\n",
      "9\n"
     ]
    }
   ],
   "source": [
    "i = 1\n",
    "\n",
    "while i < 10:\n",
    "    print(i)\n",
    "    i += 1 "
   ]
  },
  {
   "cell_type": "markdown",
   "id": "444224f4-fe81-44ba-bf41-b87fc1dc7be9",
   "metadata": {},
   "source": [
    "### Q2. Write a python program to print the sum and product of the first 10 natural numbers using for and while loop."
   ]
  },
  {
   "cell_type": "markdown",
   "id": "e081008d-e64d-4c50-8b69-7530597b06c6",
   "metadata": {},
   "source": [
    "### Answer: "
   ]
  },
  {
   "cell_type": "markdown",
   "id": "a0f1943d-05cb-4c79-b394-ad6e53ac531f",
   "metadata": {},
   "source": [
    "#### For loop"
   ]
  },
  {
   "cell_type": "code",
   "execution_count": 3,
   "id": "79f09cd8-4352-4ff4-afb0-43aa9493e30b",
   "metadata": {},
   "outputs": [
    {
     "name": "stdout",
     "output_type": "stream",
     "text": [
      "The sum of the first 10 natural numbers is: 55\n",
      "The product of the first 10 natural numbers is: 3628800\n"
     ]
    }
   ],
   "source": [
    "sum = 0\n",
    "product = 1\n",
    "\n",
    "for i in range(1, 11):\n",
    "    sum += i\n",
    "    product *= i\n",
    "\n",
    "print(\"The sum of the first 10 natural numbers is:\", sum)\n",
    "print(\"The product of the first 10 natural numbers is:\", product)"
   ]
  },
  {
   "cell_type": "markdown",
   "id": "41e8b14f-3020-44af-be55-ed374570588d",
   "metadata": {},
   "source": [
    "#### While Loop"
   ]
  },
  {
   "cell_type": "code",
   "execution_count": 4,
   "id": "970fb2eb-4a55-40f2-ab09-58eb495e915d",
   "metadata": {},
   "outputs": [
    {
     "name": "stdout",
     "output_type": "stream",
     "text": [
      "The sum of the first 10 natural numbers is: 55\n",
      "The product of the first 10 natural numbers is: 3628800\n"
     ]
    }
   ],
   "source": [
    "sum = 0\n",
    "product = 1\n",
    "i=1\n",
    "\n",
    "while i<=10:\n",
    "    sum += i\n",
    "    product *= i\n",
    "    i+=1\n",
    "    \n",
    "\n",
    "print(\"The sum of the first 10 natural numbers is:\", sum)\n",
    "print(\"The product of the first 10 natural numbers is:\", product)"
   ]
  },
  {
   "cell_type": "markdown",
   "id": "d68ae830-b504-454b-8e32-a55ed37c99f3",
   "metadata": {},
   "source": [
    "### Q3.  Create a python program to compute the electricity bill for a household The per-unit charges in rupees are as follows: For the first 100 units, the user will be charged Rs. 4.5 per unit, for the next 100 units, the user will be charged Rs. 6 per unit, and for the next 100 units, the user will be charged Rs. 10 per unit, After 300 units and above the user will be charged Rs. 20 per unit You are required to take the units of electricity consumed in a month from the user as input. Your program must pass this test case: when the unit of electricity consumed by the user in a month is 310, the total electricity bill should be 2250."
   ]
  },
  {
   "cell_type": "markdown",
   "id": "5a75c32f-1297-4bdb-b05f-82006ceb493c",
   "metadata": {},
   "source": [
    "### Answer: "
   ]
  },
  {
   "cell_type": "code",
   "execution_count": 20,
   "id": "40e70539-1233-4756-8636-f182ce48b260",
   "metadata": {},
   "outputs": [
    {
     "name": "stdin",
     "output_type": "stream",
     "text": [
      "Enter yout consumbed by User :   310\n"
     ]
    },
    {
     "name": "stdout",
     "output_type": "stream",
     "text": [
      "Total Electricity bill = 2250.0\n"
     ]
    }
   ],
   "source": [
    "unit=int(input(\"Enter yout consumbed by User :  \"))\n",
    "total_amount= 0\n",
    "\n",
    "\n",
    "if unit<=100:\n",
    "    total_amount += (unit)*4.5 \n",
    "    \n",
    "    \n",
    "elif unit<=200:\n",
    "    total_amount += 100*4.5\n",
    "    total_amount += (unit-100)*6\n",
    "    \n",
    "    \n",
    "elif unit<=300:\n",
    "    total_amount += 100*4.5\n",
    "    total_amount += 100*6\n",
    "    total_amount += (unit-200)*10\n",
    "\n",
    "    \n",
    "elif unit>300:\n",
    "    total_amount += 100*4.5\n",
    "    total_amount += 100*6\n",
    "    total_amount += 100*10\n",
    "    total_amount += (unit-300)*20\n",
    "\n",
    "\n",
    "   \n",
    "\n",
    "    \n",
    "        \n",
    "print(f\"Total Electricity bill = {total_amount}\")\n",
    "    \n",
    "    \n",
    "    \n",
    "    "
   ]
  },
  {
   "cell_type": "markdown",
   "id": "f30dff9d-4cc5-4625-8807-2f5af994eaac",
   "metadata": {},
   "source": [
    "### Q4. Create a list of numbers from 1 to 100. Use for loop and while loop to calculate the cube of each number and if the cube of that number is divisible by 4 or 5 then append that number in a list and print that list."
   ]
  },
  {
   "cell_type": "markdown",
   "id": "d6d0fc98-806b-4245-9494-b2f8ba39a5ce",
   "metadata": {},
   "source": [
    "### Answer: "
   ]
  },
  {
   "cell_type": "code",
   "execution_count": 27,
   "id": "c9a2fb61-dff8-43f3-ae03-5095cdeb38cc",
   "metadata": {},
   "outputs": [
    {
     "name": "stdout",
     "output_type": "stream",
     "text": [
      "[2, 4, 5, 6, 8, 10, 12, 14, 15, 16, 18, 20, 22, 24, 25, 26, 28, 30, 32, 34, 35, 36, 38, 40, 42, 44, 45, 46, 48, 50, 52, 54, 55, 56, 58, 60, 62, 64, 65, 66, 68, 70, 72, 74, 75, 76, 78, 80, 82, 84, 85, 86, 88, 90, 92, 94, 95, 96, 98, 100]\n"
     ]
    }
   ],
   "source": [
    "list_number = []\n",
    "for i in range(1,101):\n",
    "    if (i**3)%4==0 or (i**3)%5==0:\n",
    "        list_number.append(i)\n",
    "print(list_number)\n",
    "    "
   ]
  },
  {
   "cell_type": "code",
   "execution_count": 38,
   "id": "2192c862-c27c-445a-9507-14437a1abddf",
   "metadata": {},
   "outputs": [
    {
     "name": "stdout",
     "output_type": "stream",
     "text": [
      "[2, 4, 5, 6, 8, 10, 12, 14, 15, 16, 18, 20, 22, 24, 25, 26, 28, 30, 32, 34, 35, 36, 38, 40, 42, 44, 45, 46, 48, 50, 52, 54, 55, 56, 58, 60, 62, 64, 65, 66, 68, 70, 72, 74, 75, 76, 78, 80, 82, 84, 85, 86, 88, 90, 92, 94, 95, 96, 98, 100]\n"
     ]
    }
   ],
   "source": [
    "list_number = []\n",
    "i=1\n",
    "while i <=100:\n",
    "    if (i**3)%4==0 or (i**3)%5==0:\n",
    "        list_number.append(i)\n",
    "    i+=1\n",
    "\n",
    "\n",
    "    \n",
    "print(list_number)"
   ]
  },
  {
   "cell_type": "markdown",
   "id": "25ea6458-7863-42ce-a79c-f39dc29d5d11",
   "metadata": {},
   "source": [
    "### Q5. Write a program to filter count vowels in the below-given string. string = \"I want to become a data scientist\"\n"
   ]
  },
  {
   "cell_type": "markdown",
   "id": "e088c51d-cc69-4f6c-a4c3-b503f48b6932",
   "metadata": {},
   "source": [
    "### Answer"
   ]
  },
  {
   "cell_type": "code",
   "execution_count": 39,
   "id": "84fad082-9238-41b1-a347-3c7879bbc89f",
   "metadata": {},
   "outputs": [
    {
     "name": "stdout",
     "output_type": "stream",
     "text": [
      "Number of vowels in the string:  12\n"
     ]
    }
   ],
   "source": [
    "string = \"I want to become a data scientist\"\n",
    "vowels = \"aeiou\"\n",
    "count = 0\n",
    "\n",
    "for char in string:\n",
    "    if char.lower() in vowels:\n",
    "        count += 1\n",
    "\n",
    "print(\"Number of vowels in the string: \", count)"
   ]
  },
  {
   "cell_type": "code",
   "execution_count": null,
   "id": "18bb651f-e144-432a-90e9-099380cc07bf",
   "metadata": {},
   "outputs": [],
   "source": []
  }
 ],
 "metadata": {
  "kernelspec": {
   "display_name": "Python 3 (ipykernel)",
   "language": "python",
   "name": "python3"
  },
  "language_info": {
   "codemirror_mode": {
    "name": "ipython",
    "version": 3
   },
   "file_extension": ".py",
   "mimetype": "text/x-python",
   "name": "python",
   "nbconvert_exporter": "python",
   "pygments_lexer": "ipython3",
   "version": "3.10.8"
  }
 },
 "nbformat": 4,
 "nbformat_minor": 5
}
