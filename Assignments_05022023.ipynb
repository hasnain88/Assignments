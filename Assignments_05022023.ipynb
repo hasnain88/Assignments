{
 "cells": [
  {
   "cell_type": "markdown",
   "id": "2715f1e0-ebe6-4b1f-a1ef-a55d1af39226",
   "metadata": {},
   "source": [
    "## Q1. Explain Class and Object with respect to Object-Oriented Programming. Give a suitable example.\n",
    "### ANS"
   ]
  },
  {
   "cell_type": "markdown",
   "id": "29d0f879-60b2-4804-97be-64365284c11f",
   "metadata": {},
   "source": [
    "In object-oriented programming (OOP), a class is a blueprint or a template for creating objects. It defines the attributes and methods that the objects of that class will have. An object, on the other hand, is an instance of a class. It is created from the class blueprint and has its own unique identity, attributes, and behavior.\n",
    "\n",
    "In Python, a class is defined using the class keyword, followed by the class name. Here's an example of a class definition for a Car class:"
   ]
  },
  {
   "cell_type": "code",
   "execution_count": 1,
   "id": "5abfca82-6821-4112-9c5b-713a7bb39a10",
   "metadata": {},
   "outputs": [],
   "source": [
    "class Car:\n",
    "    # Class attribute\n",
    "    wheels = 4\n",
    "    \n",
    "    # Constructor method\n",
    "    def __init__(self, make, model, year):\n",
    "        # Instance attributes\n",
    "        self.make = make\n",
    "        self.model = model\n",
    "        self.year = year\n",
    "    \n",
    "    # Instance method\n",
    "    def start_engine(self):\n",
    "        print(f\"The {self.make} {self.model} is starting...\")"
   ]
  },
  {
   "cell_type": "code",
   "execution_count": null,
   "id": "16c2356b-ca50-4c0a-9844-b55750048b8a",
   "metadata": {},
   "outputs": [],
   "source": []
  },
  {
   "cell_type": "markdown",
   "id": "58dc54b4-0da7-4d21-9348-4a5043714e60",
   "metadata": {},
   "source": [
    "### Q2. Name the four pillars of OOPs.\n",
    "## ANS"
   ]
  },
  {
   "cell_type": "markdown",
   "id": "490235bf-4672-43ef-9786-e4e15c7d83a8",
   "metadata": {},
   "source": [
    "The four pillars of object-oriented programming (OOP) in Python (and in general) are:\n",
    "\n",
    "1) Encapsulation: This is the concept of bundling data and the methods that operate on that data within a single unit (i.e., a class) and restricting access to the data from outside the class. It helps to keep the data safe from accidental modification, and allows for better organization and modularity in the code.\n",
    "\n",
    "2) Abstraction: This is the concept of hiding the implementation details of a class and exposing only the relevant information to the user. It helps to reduce complexity and makes the code easier to use and maintain.\n",
    "\n",
    "3) Inheritance: This is the concept of creating a new class from an existing class, which inherits all the attributes and methods of the parent class. It allows for code reuse, promotes modularity, and makes the code more scalable.\n",
    "\n",
    "4) Polymorphism: This is the concept of using a single interface to represent multiple forms (i.e., objects) of a class. It allows for flexibility and extensibility in the code, and enables code to work with objects of different types or classes in a uniform way."
   ]
  },
  {
   "cell_type": "code",
   "execution_count": null,
   "id": "b56a3c27-9c30-4aa5-92d7-b15eec44cefa",
   "metadata": {},
   "outputs": [],
   "source": []
  },
  {
   "cell_type": "markdown",
   "id": "29c6181f-810c-4824-bb6d-62286d03d807",
   "metadata": {},
   "source": [
    "## Q3. Explain why the __init__() function is used. Give a suitable example.\n",
    "### ANS"
   ]
  },
  {
   "cell_type": "markdown",
   "id": "9c984bfd-2d88-438b-800c-f878215bc877",
   "metadata": {},
   "source": [
    "In Python, the __init__() function is a special method that gets called automatically when a new object of a class is created. It's used to initialize the object's attributes and perform any setup required before the object can be used.\n",
    "\n",
    "For example, let's say we have a class called Rectangle that represents a rectangle shape. We might want to initialize each Rectangle object with a width and height attribute. We could do this using the __init__() method as follows:"
   ]
  },
  {
   "cell_type": "code",
   "execution_count": 1,
   "id": "e42648bc-8a97-4f44-b8c9-879366e5757d",
   "metadata": {},
   "outputs": [],
   "source": [
    "class Rectangle:\n",
    "    def __init__(self, width, height):\n",
    "        self.width = width\n",
    "        self.height = height"
   ]
  },
  {
   "cell_type": "code",
   "execution_count": 2,
   "id": "f1a9184d-9811-447f-b803-69801cdf53ac",
   "metadata": {},
   "outputs": [],
   "source": [
    "r = Rectangle(10, 20)"
   ]
  },
  {
   "cell_type": "code",
   "execution_count": null,
   "id": "2a20b062-7394-4e6d-a6ab-f69722c87c73",
   "metadata": {},
   "outputs": [],
   "source": []
  },
  {
   "cell_type": "markdown",
   "id": "7512a955-5043-4f58-b75e-7fc27c036f1b",
   "metadata": {},
   "source": [
    "## Q4. Why self is used in OOPs?\n",
    "### ANS"
   ]
  },
  {
   "cell_type": "markdown",
   "id": "76a47f71-9471-48de-b64e-a818b8c2e08f",
   "metadata": {},
   "source": [
    "In object-oriented programming (OOP), self is used as a reference to the instance of the class. It is a special variable that refers to the current instance of the class, which is being worked on. When a method is called on an instance of a class, self is passed as the first argument automatically.\n",
    "\n",
    "In Python, self is not a keyword but a convention to refer to the instance of the class. By convention, self is always used as the first parameter name for instance methods in a class.\n",
    "\n",
    "Using self is essential in OOP because it allows you to access and modify the attributes and methods of the current instance of the class. Without self, you wouldn't be able to differentiate between the attributes and methods of one instance and those of another.\n",
    "\n",
    "For example, let's say we have a class called Person with an instance method called speak. The speak method takes a message as an argument and prints it out using the name of the person:"
   ]
  },
  {
   "cell_type": "code",
   "execution_count": 3,
   "id": "a7fa01e6-4be8-4be4-a5f9-8d627c089d4e",
   "metadata": {},
   "outputs": [],
   "source": [
    "class Person:\n",
    "    def __init__(self, name):\n",
    "        self.name = name\n",
    "\n",
    "    def speak(self, message):\n",
    "        print(f\"{self.name} says: {message}\")"
   ]
  },
  {
   "cell_type": "code",
   "execution_count": null,
   "id": "8c4dcce8-bc41-4df3-a262-c390d9475a4b",
   "metadata": {},
   "outputs": [],
   "source": []
  },
  {
   "cell_type": "markdown",
   "id": "2bc01dfe-b918-49ac-a03e-8c073cb1a1de",
   "metadata": {},
   "source": [
    "## Q5. What is inheritance? Give an example for each type of inheritance.\n",
    "### ANS"
   ]
  },
  {
   "cell_type": "markdown",
   "id": "7efe1ff5-78db-454c-aff4-d3f978d213a4",
   "metadata": {},
   "source": [
    "nheritance is a mechanism in object-oriented programming (OOP) that allows a new class to be based on an existing class, inheriting its properties and behavior. The existing class is known as the base class or parent class, and the new class is known as the derived class or child class.\n",
    "\n",
    "There are several types of inheritance in OOP:\n",
    "\n",
    "Single inheritance: In single inheritance, a derived class inherits from a single base class.\n",
    "\n",
    "Example:"
   ]
  },
  {
   "cell_type": "code",
   "execution_count": 4,
   "id": "8595b1ac-608f-432b-aebb-d3250473e0af",
   "metadata": {},
   "outputs": [],
   "source": [
    "class Animal:\n",
    "    def __init__(self, name):\n",
    "        self.name = name\n",
    "\n",
    "    def speak(self):\n",
    "        pass\n",
    "\n",
    "class Dog(Animal):\n",
    "    def speak(self):\n",
    "        return \"Woof!\""
   ]
  },
  {
   "cell_type": "markdown",
   "id": "1f55d368-43a1-47bc-8db1-58b8cc6a8dd7",
   "metadata": {},
   "source": [
    "Multiple inheritance: In multiple inheritance, a derived class inherits from multiple base classes.\n",
    "\n",
    "Example:"
   ]
  },
  {
   "cell_type": "code",
   "execution_count": 5,
   "id": "6d178a2d-9789-4b41-a456-434425f08db7",
   "metadata": {},
   "outputs": [],
   "source": [
    "class Car:\n",
    "    def __init__(self, brand):\n",
    "        self.brand = brand\n",
    "\n",
    "    def drive(self):\n",
    "        pass\n",
    "\n",
    "class Electric:\n",
    "    def charge(self):\n",
    "        pass\n",
    "\n",
    "class HybridCar(Car, Electric):\n",
    "    pass"
   ]
  },
  {
   "cell_type": "code",
   "execution_count": null,
   "id": "277bec2f-2c8c-4614-944b-8e086da55f9b",
   "metadata": {},
   "outputs": [],
   "source": []
  }
 ],
 "metadata": {
  "kernelspec": {
   "display_name": "Python 3 (ipykernel)",
   "language": "python",
   "name": "python3"
  },
  "language_info": {
   "codemirror_mode": {
    "name": "ipython",
    "version": 3
   },
   "file_extension": ".py",
   "mimetype": "text/x-python",
   "name": "python",
   "nbconvert_exporter": "python",
   "pygments_lexer": "ipython3",
   "version": "3.10.8"
  }
 },
 "nbformat": 4,
 "nbformat_minor": 5
}
