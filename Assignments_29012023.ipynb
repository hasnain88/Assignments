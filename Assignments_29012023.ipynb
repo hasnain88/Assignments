{
 "cells": [
  {
   "cell_type": "markdown",
   "id": "ddedfe98-8ee4-4bed-b3dd-43d72eff14c1",
   "metadata": {},
   "source": [
    "## Q1 Who Developed Python Programmin Language?\n",
    "### Ans"
   ]
  },
  {
   "cell_type": "markdown",
   "id": "5b9b20b7-9802-4bfb-9d6f-03e0eb1c4a1a",
   "metadata": {},
   "source": [
    "Guido van Rossum has developed Python Programming Language"
   ]
  },
  {
   "cell_type": "code",
   "execution_count": null,
   "id": "138d0558-954b-45da-a437-4167843f9f93",
   "metadata": {},
   "outputs": [],
   "source": []
  },
  {
   "cell_type": "markdown",
   "id": "ee9b21a3-61ee-459d-9bc7-b7223c505a8d",
   "metadata": {},
   "source": [
    "## Q2 Which type of Programming does Python support?\n",
    "### ANS"
   ]
  },
  {
   "cell_type": "markdown",
   "id": "244ddd28-53a9-414b-bbc3-a65a27611a01",
   "metadata": {},
   "source": [
    "Python is an interpreted, interactive, object-oriented programming language. It incorporates modules, exceptions, dynamic typing, very high level dynamic data types, and classes. It supports multiple programming paradigms beyond object-oriented programming, such as procedural and functional programming."
   ]
  },
  {
   "cell_type": "code",
   "execution_count": null,
   "id": "d7e2a23e-3a9d-4bc3-b366-0d92395305af",
   "metadata": {},
   "outputs": [],
   "source": []
  },
  {
   "cell_type": "markdown",
   "id": "325cea66-b36d-4a00-a911-3a18c870fc3a",
   "metadata": {},
   "source": [
    "## Q3 Is Python case sensitive when dealing with identifiers?\n",
    "### ANS"
   ]
  },
  {
   "cell_type": "markdown",
   "id": "883f712b-7f4c-47de-b1aa-6e6a5c743c6b",
   "metadata": {},
   "source": [
    "Yes, Python is a case−sensitive programming language. This means that it considers uppercase and lowercase letters differently."
   ]
  },
  {
   "cell_type": "code",
   "execution_count": null,
   "id": "109c956c-5bd0-4648-ae55-d59cd8425668",
   "metadata": {},
   "outputs": [],
   "source": []
  },
  {
   "cell_type": "markdown",
   "id": "9e444b4e-f1d4-4f2c-95b9-0254abbe6cc7",
   "metadata": {},
   "source": [
    "## Q4 What is the correct extension of the Python file?\n",
    "### ANS"
   ]
  },
  {
   "cell_type": "markdown",
   "id": "7cfd2aaf-6662-4c9a-8c73-fe64d4d64d96",
   "metadata": {},
   "source": [
    "pyc: This is the file extension for compiled Python code files. When a . py file is executed, the Python interpreter compiles the code to bytecode and saves it in a . pyc file to improve performance on subsequent executions."
   ]
  },
  {
   "cell_type": "code",
   "execution_count": null,
   "id": "b560c495-3852-482d-aa49-ff49edd9a3a3",
   "metadata": {},
   "outputs": [],
   "source": []
  },
  {
   "cell_type": "markdown",
   "id": "f3df4edc-a765-4eaa-9daf-8dfd25e2145e",
   "metadata": {},
   "source": [
    "## Q5 Is Python code compiles or interpreted?\n",
    "\n",
    "### ANS"
   ]
  },
  {
   "cell_type": "markdown",
   "id": "04db888e-a774-4d87-800d-2be263176cf5",
   "metadata": {},
   "source": [
    "Python is an interpreted language, which means the source code of a Python program is converted into bytecode that is then executed by the Python virtual machine."
   ]
  },
  {
   "cell_type": "code",
   "execution_count": null,
   "id": "cfac492c-af4c-438a-83f6-730dd39d5122",
   "metadata": {},
   "outputs": [],
   "source": []
  },
  {
   "cell_type": "markdown",
   "id": "7141ea1c-db93-493e-ad0f-a70ccaaa64cb",
   "metadata": {},
   "source": [
    "## Q6 Name a few blocks of code used to define in Python Language?\n",
    "### ANS"
   ]
  },
  {
   "cell_type": "markdown",
   "id": "3fe63883-3581-4414-b256-e480c24f40da",
   "metadata": {},
   "source": [
    "The following are blocks: a module, a function body, and a class definition. Each command typed interactively is a block. A script file (a file given as standard input to the interpreter or specified as a command line argument to the interpreter) is a code block."
   ]
  },
  {
   "cell_type": "code",
   "execution_count": null,
   "id": "0e9aeaf4-54aa-4a88-827e-2bd2aa542abb",
   "metadata": {},
   "outputs": [],
   "source": []
  },
  {
   "cell_type": "markdown",
   "id": "30fe3d1d-976d-48d0-80e9-392ee40f4a71",
   "metadata": {},
   "source": [
    "## Q7 State a character used to give single-line comments in Python?\n",
    "### ANS"
   ]
  },
  {
   "cell_type": "markdown",
   "id": "b9e2747f-10fb-473e-b758-6e0869c4761f",
   "metadata": {},
   "source": [
    "Python offers a pretty simple and straightforward way to write a comment. We can write a single-line comment by adding a single # character before any statement or line of code."
   ]
  },
  {
   "cell_type": "code",
   "execution_count": null,
   "id": "b2b99b1d-81db-4d41-adcb-c58676d26dff",
   "metadata": {},
   "outputs": [],
   "source": []
  },
  {
   "cell_type": "markdown",
   "id": "c546e689-7c74-4416-8a79-82a268e01e47",
   "metadata": {},
   "source": [
    "## Q8 Mention functions which can help us to find the version of python that we can currently working on?\n",
    "### ANS"
   ]
  },
  {
   "cell_type": "markdown",
   "id": "9acd433e-4851-4363-a958-37ab9d3a0600",
   "metadata": {},
   "source": [
    "The function sys. version can help us to find the version of python that we are currently working on."
   ]
  },
  {
   "cell_type": "code",
   "execution_count": null,
   "id": "4f406c5a-4df4-429e-a333-eeb12303920a",
   "metadata": {},
   "outputs": [],
   "source": []
  },
  {
   "cell_type": "markdown",
   "id": "89137a40-814b-4e92-80aa-b38c50315078",
   "metadata": {},
   "source": [
    "## Q9 Python supports the creation of anonyous function at runtime, using a construct called?\n",
    "### ANS"
   ]
  },
  {
   "cell_type": "markdown",
   "id": "dc4e32e8-21a8-492b-90de-b1d683b541a1",
   "metadata": {},
   "source": [
    "Python supports the creation of anonyous function at runtime, using a construct called lambda"
   ]
  },
  {
   "cell_type": "code",
   "execution_count": null,
   "id": "a2ba7e11-640d-4372-9a7f-d88abcdaab7f",
   "metadata": {},
   "outputs": [],
   "source": []
  },
  {
   "cell_type": "markdown",
   "id": "1f5e286a-0c08-4b9c-a333-8f8fd3931fd5",
   "metadata": {},
   "source": [
    "## Q10 What does pip stand for python?\n",
    "### ANS"
   ]
  },
  {
   "cell_type": "markdown",
   "id": "045418e5-9d88-4e63-9664-2a5e5ddccaee",
   "metadata": {},
   "source": [
    "PIP stands for \"Pip Installs Packages\". It is a package management system for installing and managing software packages written in Python. PIP allows you to easily install, upgrade, and remove Python packages and their dependencies. It is an essential tool for working with Python packages and is widely used by Python developers.\n",
    "\n",
    "\n",
    "\n",
    "\n"
   ]
  },
  {
   "cell_type": "code",
   "execution_count": null,
   "id": "2f28a1a9-00b0-4b5e-b8d4-45d5216da5d6",
   "metadata": {},
   "outputs": [],
   "source": []
  },
  {
   "cell_type": "markdown",
   "id": "821e86cb-572c-4fc8-9c6a-2e036e938041",
   "metadata": {},
   "source": [
    "## Q11 Mention a few built-in functions in python?\n",
    "### ANS"
   ]
  },
  {
   "cell_type": "markdown",
   "id": "f4a6bfaa-c054-42ca-9077-167e22914be9",
   "metadata": {},
   "source": [
    "here are some of the commonly used built-in functions in Python:\n",
    "\n",
    "print(): Used to print text or values to the console.\n",
    "\n",
    "type(): Returns the type of an object.\n",
    "\n",
    "len(): Returns the length of a sequence or collection.\n",
    "\n",
    "str(): Converts an object to a string.\n",
    "\n",
    "int(): Converts a string or a floating-point number to an integer.\n",
    "\n",
    "float(): Converts a string or an integer to a floating-point number.\n",
    "\n",
    "range(): Generates a sequence of numbers.\n",
    "\n",
    "list(): Converts a sequence to a list.\n",
    "\n",
    "dict(): Creates a new dictionary object.\n",
    "\n",
    "set(): Creates a new set object."
   ]
  },
  {
   "cell_type": "code",
   "execution_count": null,
   "id": "720f031e-4bf9-4d37-bc1c-43f13fd62df7",
   "metadata": {},
   "outputs": [],
   "source": []
  },
  {
   "cell_type": "markdown",
   "id": "29d37e97-5a48-4c73-afc1-d299dece263c",
   "metadata": {},
   "source": [
    "## Q12 What is the maximum possible length of an identifier in python?\n",
    "### ANS"
   ]
  },
  {
   "cell_type": "markdown",
   "id": "8f30cf0a-5716-43ac-96bc-a89f9e9bbffc",
   "metadata": {},
   "source": [
    "79 characters"
   ]
  },
  {
   "cell_type": "code",
   "execution_count": null,
   "id": "3fcad6cb-be56-4cbc-ab37-807eae8d455f",
   "metadata": {},
   "outputs": [],
   "source": []
  },
  {
   "cell_type": "markdown",
   "id": "87ee9e96-2588-4e84-8028-477468387dcd",
   "metadata": {},
   "source": [
    "## Q13 What are the benefits of using Python?\n",
    "### ANS"
   ]
  },
  {
   "cell_type": "markdown",
   "id": "62321d8c-f68c-4b88-9d75-9581fcf0652c",
   "metadata": {},
   "source": [
    "Python is a high-level, interpreted, and general-purpose dynamic programming language that focuses on code readability. It generally has small programs when compared to Java and C. It was founded in 1991 by developer Guido Van Rossum. Python ranks among the most popular and fastest-growing languages in the world. Python is a powerful, flexible, and easy-to-use language. In addition, the python community is very active. It is used in many organizations as it supports multiple programming paradigms. It also performs automatic memory management.\n",
    "\n",
    "Advantages: \n",
    "\n",
    "Presence of third-party modules \n",
    "\n",
    "Extensive support libraries(NumPy for numerical calculations, Pandas for data analytics, etc.) \n",
    "\n",
    "Open source and large active community base \n",
    "\n",
    "Versatile, Easy to read, learn and write\n",
    "\n",
    "User-friendly data structures \n",
    "\n",
    "High-level language \n",
    "\n",
    "Dynamically typed language(No need to mention data type based on the value assigned, it takes data type) \n",
    "\n",
    "Object-Oriented and Procedural  Programming language\n",
    "\n",
    "Portable and Interactive\n",
    "\n",
    "Ideal for prototypes – provide more functionality with less coding\n",
    "Highly Efficient(Python’s clean object-oriented design provides enhanced process control, and the language is equipped with excellent text processing and integration capabilities, as well as its own unit testing framework, which makes it more efficient.)\n",
    "\n",
    "Internet of Things(IoT) Opportunities\n",
    "\n",
    "Interpreted Language\n",
    "\n",
    "Portable across Operating systems "
   ]
  },
  {
   "cell_type": "code",
   "execution_count": null,
   "id": "8a5476b8-75f9-43ee-81ae-586906d4e651",
   "metadata": {},
   "outputs": [],
   "source": []
  },
  {
   "cell_type": "markdown",
   "id": "a52386e9-ea53-4cb7-bee7-bd7f7a691981",
   "metadata": {},
   "source": [
    "## Q14 How is memory management in Python?\n",
    "### ANS"
   ]
  },
  {
   "cell_type": "markdown",
   "id": "d819e84a-8b27-4473-93da-0e4ebb54d20f",
   "metadata": {},
   "source": [
    "Memory management in Python involves a private heap containing all Python objects and data structures. The management of this private heap is ensured internally by the Python memory manager."
   ]
  },
  {
   "cell_type": "code",
   "execution_count": null,
   "id": "3e0b6df5-00b1-42c5-979e-535b0bde012e",
   "metadata": {},
   "outputs": [],
   "source": []
  },
  {
   "cell_type": "markdown",
   "id": "2a604e53-cd0e-4d14-83d0-653a00702cd1",
   "metadata": {},
   "source": [
    "## Q15 How to install Python on Windows and set path variables?\n",
    "### ANS"
   ]
  },
  {
   "cell_type": "markdown",
   "id": "42648dd3-3604-4ce5-a450-7df414491aa8",
   "metadata": {},
   "source": [
    "PATH variable\n",
    "The PATH variable is a list of directories where each directory contains the executable file for a command.\n",
    "\n",
    "When a command is entered into the Windows command prompt, the prompt searches in the PATH variable for an executable file with the same name as the command; i​n the case that the required file is not found, it responds with an error message that states that​ the specified command was not recognized.\n",
    "\n",
    "One way to overcome this error is to write the complete directory of the executable file instead of only entering the command name. However, this is not a very user-friendly approach.\n",
    "\n",
    "Another possible, and easier, way to avoid this error is to add the executable file’s directory to the PATH variable. Oftentimes, this needs to be done when installing Python.\n",
    "\n",
    "The complete path of python.exe can be added by:\n",
    "\n",
    "Right-clicking This PC and going to Properties.\n",
    "\n",
    "Clicking on the Advanced system settings in the menu on the left.\n",
    "\n",
    "Clicking on the Environment Variables button o​n the bottom right.\n",
    "\n",
    "In the System variables section, selecting the Path variable and clicking on Edit. The next screen will show all the directories that are currently a part of the PATH variable.\n",
    "\n",
    "Clicking on New and entering Python’s install directory.\n",
    "\n",
    "Python can now be used directly from the command prompt without having to write its location. Try executing the command python --version; it will output the version of Python installed on your system."
   ]
  },
  {
   "cell_type": "code",
   "execution_count": null,
   "id": "ab131ddd-4d6a-4260-98a4-012ee56c5354",
   "metadata": {},
   "outputs": [],
   "source": []
  },
  {
   "cell_type": "markdown",
   "id": "c4e4970f-cbd8-4736-8967-443f2d77e2fd",
   "metadata": {},
   "source": [
    "## Q16 Is indentation required in Python?\n",
    "### ANS"
   ]
  },
  {
   "cell_type": "markdown",
   "id": "23be7de9-0bbc-4280-bb97-63da155e1a63",
   "metadata": {},
   "source": [
    "Yes, Indentation is important to Python because it's how you determine scope. Scope is how Python knows what code belongs to what part of the program."
   ]
  },
  {
   "cell_type": "code",
   "execution_count": null,
   "id": "47649b1f-4ecf-449c-b370-b50242480fc1",
   "metadata": {},
   "outputs": [],
   "source": []
  }
 ],
 "metadata": {
  "kernelspec": {
   "display_name": "Python 3 (ipykernel)",
   "language": "python",
   "name": "python3"
  },
  "language_info": {
   "codemirror_mode": {
    "name": "ipython",
    "version": 3
   },
   "file_extension": ".py",
   "mimetype": "text/x-python",
   "name": "python",
   "nbconvert_exporter": "python",
   "pygments_lexer": "ipython3",
   "version": "3.10.8"
  }
 },
 "nbformat": 4,
 "nbformat_minor": 5
}
