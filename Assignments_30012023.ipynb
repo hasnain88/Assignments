{
 "cells": [
  {
   "cell_type": "markdown",
   "id": "a74af8b9-478d-45e8-bcdc-ca75611d4542",
   "metadata": {},
   "source": [
    "##  Q1 Write a program to accept percentage from the user and display the grade accordingly to the following criteria:\n",
    "### ANS"
   ]
  },
  {
   "cell_type": "code",
   "execution_count": 5,
   "id": "b8fd171d-24f9-4f42-91e9-dc862e29524d",
   "metadata": {},
   "outputs": [
    {
     "name": "stdin",
     "output_type": "stream",
     "text": [
      "Enter your Percentage... 56\n"
     ]
    },
    {
     "name": "stdout",
     "output_type": "stream",
     "text": [
      "Grade : D\n"
     ]
    }
   ],
   "source": [
    "marks = float(input(\"Enter your Percentage...\"))\n",
    "if marks > 90:\n",
    "    print(\"Grade : A\")\n",
    "elif marks >80 and marks<=90:\n",
    "    print(\"Grade : B\")\n",
    "elif marks>=60 and marks<=80:\n",
    "    print(\"Grade : C\")\n",
    "elif marks<60:\n",
    "    print(\"Grade : D\")"
   ]
  },
  {
   "cell_type": "code",
   "execution_count": null,
   "id": "c7e147d6-99a9-4f2b-b2ba-4fa2b65eb6d1",
   "metadata": {},
   "outputs": [],
   "source": []
  },
  {
   "cell_type": "markdown",
   "id": "bc4227ad-c0e7-48ca-802a-1e45718c2d81",
   "metadata": {},
   "source": [
    "## Q2 Write a program to accept the cost price of a bike and display the road tax to be paid according to the following criteria:\n",
    "### ANS"
   ]
  },
  {
   "cell_type": "code",
   "execution_count": 9,
   "id": "f5d92b1d-0420-418c-a988-55a300d128f1",
   "metadata": {},
   "outputs": [
    {
     "name": "stdin",
     "output_type": "stream",
     "text": [
      "Enter a Bike Price.....:  1000000\n"
     ]
    },
    {
     "name": "stdout",
     "output_type": "stream",
     "text": [
      "Tax to be paid : 15%\n"
     ]
    }
   ],
   "source": [
    "bike_price = float(input(\"Enter a Bike Price.....: \"))\n",
    "if bike_price > 100000:\n",
    "    print(\"Tax to be paid : 15%\")\n",
    "elif bike_price >50000 and bike_price<=100000:\n",
    "    print(\"Tax to be paid : 10%\")\n",
    "elif bike_price <=50000:\n",
    "    print(\"Tax to be paid : 5%\")"
   ]
  },
  {
   "cell_type": "markdown",
   "id": "56245b5e-d138-4642-b271-670e115bf22c",
   "metadata": {},
   "source": []
  },
  {
   "cell_type": "markdown",
   "id": "86f4c887-0878-4a9a-9b6a-895170a82533",
   "metadata": {},
   "source": [
    "## Q3 Accept any city from the user and display monuments of that city.\n",
    "### ANS"
   ]
  },
  {
   "cell_type": "code",
   "execution_count": 13,
   "id": "f38a0550-c331-41e8-90e7-8825dbad0774",
   "metadata": {},
   "outputs": [
    {
     "name": "stdin",
     "output_type": "stream",
     "text": [
      "Enter city Name :  vadodara\n"
     ]
    },
    {
     "name": "stdout",
     "output_type": "stream",
     "text": [
      "Invalid Entry\n"
     ]
    }
   ],
   "source": [
    "city_name = input(\"Enter city Name : \").lower()\n",
    "if city_name == 'delhi':\n",
    "    print(f\"{city_name} - Red Fort\")\n",
    "elif city_name == 'agra':\n",
    "    print(f\"{city_name} - Taj Mahal\")\n",
    "elif city_name == 'jaipur':\n",
    "    print(f\"{city_name} - Jal Mahal\")\n",
    "else:\n",
    "    print(\"Invalid Entry\")\n",
    "        "
   ]
  },
  {
   "cell_type": "code",
   "execution_count": null,
   "id": "2e46e1c7-de55-4657-99bd-cd553518717f",
   "metadata": {},
   "outputs": [],
   "source": []
  },
  {
   "cell_type": "markdown",
   "id": "929a92f7-2f8c-4829-b4e9-acfdcfc1cae6",
   "metadata": {},
   "source": [
    "## Q4 Check how many times a given number can be divided by 3 before it is less than or equal to 10.\n",
    "### ANS"
   ]
  },
  {
   "cell_type": "code",
   "execution_count": 15,
   "id": "c6845f5b-1c02-4f56-a626-727beb6f9fc4",
   "metadata": {},
   "outputs": [
    {
     "name": "stdout",
     "output_type": "stream",
     "text": [
      "3\n"
     ]
    }
   ],
   "source": [
    "num = 100\n",
    "count = 0\n",
    "\n",
    "while num > 10:\n",
    "    num = num // 3\n",
    "    count += 1\n",
    "\n",
    "print(count)"
   ]
  },
  {
   "cell_type": "code",
   "execution_count": null,
   "id": "7cb601a8-462a-4e6f-a169-fb88f58b76d0",
   "metadata": {},
   "outputs": [],
   "source": []
  },
  {
   "cell_type": "markdown",
   "id": "1bfaf89d-3f57-438f-8e3b-0dbfbf71f3a1",
   "metadata": {},
   "source": [
    "## Q5 Why and when to use while loop in Python give a detailed description with example.\n",
    "### ANS"
   ]
  },
  {
   "cell_type": "markdown",
   "id": "1511d7ed-9080-450d-a3d7-c164a863a6e4",
   "metadata": {},
   "source": [
    "A while loop is a type of loop in Python that repeatedly executes a block of code as long as a certain condition is true. The while loop is useful when you need to repeat a task until a certain condition is met, and you don't know ahead of time how many times the loop will need to run. Here's an example:"
   ]
  },
  {
   "cell_type": "code",
   "execution_count": 16,
   "id": "13f0ad85-22ed-4318-ab98-d5f15514e489",
   "metadata": {},
   "outputs": [
    {
     "name": "stdout",
     "output_type": "stream",
     "text": [
      "The sum is 105\n"
     ]
    }
   ],
   "source": [
    "sum = 0\n",
    "num = 1\n",
    "\n",
    "while sum <= 100:\n",
    "    sum += num\n",
    "    num += 1\n",
    "\n",
    "print(\"The sum is\", sum)"
   ]
  },
  {
   "cell_type": "code",
   "execution_count": null,
   "id": "c9e34f62-6df2-4550-8d2c-a8922b9b53d0",
   "metadata": {},
   "outputs": [],
   "source": []
  },
  {
   "cell_type": "markdown",
   "id": "d023ef99-4909-4735-a4cb-770cc3d0e8f5",
   "metadata": {},
   "source": [
    "## Q6 Use nested while loop to print 3 different pattern\n",
    "### ANS"
   ]
  },
  {
   "cell_type": "code",
   "execution_count": 17,
   "id": "5540553a-0285-4ddb-bdf5-9341da52e448",
   "metadata": {},
   "outputs": [
    {
     "name": "stdout",
     "output_type": "stream",
     "text": [
      "*\n",
      "**\n",
      "***\n",
      "****\n",
      "*****\n"
     ]
    }
   ],
   "source": [
    "# Pattern 1\n",
    "\n",
    "i = 1\n",
    "\n",
    "while i <= 5:\n",
    "    j = 1\n",
    "    while j <= i:\n",
    "        print(\"*\", end=\"\")\n",
    "        j += 1\n",
    "    print()\n",
    "    i += 1"
   ]
  },
  {
   "cell_type": "code",
   "execution_count": 18,
   "id": "bf9423fb-60f3-48ed-8814-30d56cb2e6f7",
   "metadata": {},
   "outputs": [
    {
     "name": "stdout",
     "output_type": "stream",
     "text": [
      "*****\n",
      "****\n",
      "***\n",
      "**\n",
      "*\n"
     ]
    }
   ],
   "source": [
    "# Pattern 2\n",
    "\n",
    "i = 5\n",
    "\n",
    "while i >= 1:\n",
    "    j = 1\n",
    "    while j <= i:\n",
    "        print(\"*\", end=\"\")\n",
    "        j += 1\n",
    "    print()\n",
    "    i -= 1"
   ]
  },
  {
   "cell_type": "code",
   "execution_count": 19,
   "id": "b7352acc-59ec-49cd-8733-3007f0c7f581",
   "metadata": {},
   "outputs": [
    {
     "name": "stdout",
     "output_type": "stream",
     "text": [
      "1\n",
      "12\n",
      "123\n",
      "1234\n",
      "12345\n"
     ]
    }
   ],
   "source": [
    "# Pattern 3\n",
    "\n",
    "i = 1\n",
    "\n",
    "while i <= 5:\n",
    "    j = 1\n",
    "    while j <= i:\n",
    "        print(j, end=\"\")\n",
    "        j += 1\n",
    "    print()\n",
    "    i += 1"
   ]
  },
  {
   "cell_type": "code",
   "execution_count": null,
   "id": "28fc20a9-3167-40b2-8503-ea473c9bb423",
   "metadata": {},
   "outputs": [],
   "source": []
  },
  {
   "cell_type": "markdown",
   "id": "de24d523-03ec-4c3b-811d-c2776113eea2",
   "metadata": {},
   "source": [
    "## Q7 Reverse a while loop to display numbers from 10 to 1\n",
    "### ANS"
   ]
  },
  {
   "cell_type": "code",
   "execution_count": 21,
   "id": "5502a9fd-16b1-4f3b-bfba-1f9f2f2d6bf2",
   "metadata": {},
   "outputs": [
    {
     "name": "stdout",
     "output_type": "stream",
     "text": [
      "10\n",
      "9\n",
      "8\n",
      "7\n",
      "6\n",
      "5\n",
      "4\n",
      "3\n",
      "2\n",
      "1\n"
     ]
    }
   ],
   "source": [
    "num = 10\n",
    "\n",
    "while num >= 1:\n",
    "    print(num)\n",
    "    num -= 1"
   ]
  },
  {
   "cell_type": "code",
   "execution_count": null,
   "id": "d27f8977-365a-4376-8260-ce3d193c1530",
   "metadata": {},
   "outputs": [],
   "source": []
  },
  {
   "cell_type": "markdown",
   "id": "ec16e363-fd6d-4eeb-b6f8-6e545a3da4fe",
   "metadata": {},
   "source": [
    "## Q7 Reverse a while loop to display numbers from 10 to 1\n",
    "### ANS"
   ]
  },
  {
   "cell_type": "code",
   "execution_count": 22,
   "id": "353c97b5-cf39-4d8d-96b0-2cd0166b415f",
   "metadata": {},
   "outputs": [
    {
     "name": "stdout",
     "output_type": "stream",
     "text": [
      "10\n",
      "9\n",
      "8\n",
      "7\n",
      "6\n",
      "5\n",
      "4\n",
      "3\n",
      "2\n",
      "1\n"
     ]
    }
   ],
   "source": [
    "num = 10\n",
    "\n",
    "while num >= 1:\n",
    "    print(num)\n",
    "    num -= 1"
   ]
  },
  {
   "cell_type": "code",
   "execution_count": null,
   "id": "5c15585a-3fa1-41e2-b0cb-070804048b44",
   "metadata": {},
   "outputs": [],
   "source": []
  }
 ],
 "metadata": {
  "kernelspec": {
   "display_name": "Python 3 (ipykernel)",
   "language": "python",
   "name": "python3"
  },
  "language_info": {
   "codemirror_mode": {
    "name": "ipython",
    "version": 3
   },
   "file_extension": ".py",
   "mimetype": "text/x-python",
   "name": "python",
   "nbconvert_exporter": "python",
   "pygments_lexer": "ipython3",
   "version": "3.10.8"
  }
 },
 "nbformat": 4,
 "nbformat_minor": 5
}
