{
 "cells": [
  {
   "cell_type": "markdown",
   "id": "fc509b7f-a12c-4723-8472-10564513a463",
   "metadata": {},
   "source": [
    "## Q1. What is MongoDB? Explain non-relational databases in short. In which scenarios it is preferred to use MongoDB over SQL databases?"
   ]
  },
  {
   "cell_type": "markdown",
   "id": "f29249bc-27f1-4b76-8770-95516206e862",
   "metadata": {},
   "source": [
    "MongoDB is a document-oriented, NoSQL database that stores data in flexible, semi-structured JSON-like documents. It is designed to scale horizontally and can handle large amounts of data and high levels of traffic.\n",
    "\n",
    "Non-relational databases, also known as NoSQL databases, are databases that do not follow the traditional relational data model used by SQL databases. Instead of tables with fixed columns and rows, non-relational databases use flexible data models to store data in documents, key-value pairs, or graphs.\n",
    "\n",
    "MongoDB is preferred over SQL databases in scenarios where there is a need for:\n",
    "\n",
    "High scalability: MongoDB can scale horizontally across multiple nodes, making it an ideal choice for applications that require high scalability.\n",
    "\n",
    "High availability: MongoDB provides built-in support for replica sets and sharding, which ensures that data is always available even in the event of a hardware failure.\n",
    "\n",
    "Flexible data models: MongoDB's document-oriented data model is highly flexible and can handle semi-structured data with ease. This makes it an ideal choice for applications that deal with complex and dynamic data.\n",
    "\n",
    "Rapid development: MongoDB's flexible schema allows for faster development cycles and easier iteration compared to SQL databases, which require more upfront planning and design.\n",
    "\n",
    "Big data: MongoDB is optimized for handling large volumes of data and can handle high levels of traffic with ease. This makes it an ideal choice for big data applications that require real-time analytics and processing.\n",
    "\n",
    "In summary, MongoDB is preferred over SQL databases in scenarios where there is a need for high scalability, high availability, flexible data models, rapid development, and big data processing.\n",
    "\n",
    "\n",
    "\n",
    "\n"
   ]
  },
  {
   "cell_type": "markdown",
   "id": "eb68351e-3ec6-458e-b210-93351ac7e761",
   "metadata": {},
   "source": [
    "## Q2. State and Explain the features of MongoDB."
   ]
  },
  {
   "cell_type": "markdown",
   "id": "3402bb51-12a2-4092-8d27-37c718c10f9c",
   "metadata": {},
   "source": [
    "MongoDB is a document-oriented, NoSQL database that stores data in flexible, semi-structured JSON-like documents. It is designed to scale horizontally and can handle large amounts of data and high levels of traffic.\n",
    "\n",
    "Non-relational databases, also known as NoSQL databases, are databases that do not follow the traditional relational data model used by SQL databases. Instead of tables with fixed columns and rows, non-relational databases use flexible data models to store data in documents, key-value pairs, or graphs.\n",
    "\n",
    "MongoDB is preferred over SQL databases in scenarios where there is a need for:\n",
    "\n",
    "High scalability: MongoDB can scale horizontally across multiple nodes, making it an ideal choice for applications that require high scalability.\n",
    "\n",
    "High availability: MongoDB provides built-in support for replica sets and sharding, which ensures that data is always available even in the event of a hardware failure.\n",
    "\n",
    "Flexible data models: MongoDB's document-oriented data model is highly flexible and can handle semi-structured data with ease. This makes it an ideal choice for applications that deal with complex and dynamic data.\n",
    "\n",
    "Rapid development: MongoDB's flexible schema allows for faster development cycles and easier iteration compared to SQL databases, which require more upfront planning and design.\n",
    "\n",
    "Big data: MongoDB is optimized for handling large volumes of data and can handle high levels of traffic with ease. This makes it an ideal choice for big data applications that require real-time analytics and processing.\n",
    "\n",
    "In summary, MongoDB is preferred over SQL databases in scenarios where there is a need for high scalability, high availability, flexible data models, rapid development, and big data processing."
   ]
  },
  {
   "cell_type": "markdown",
   "id": "5efdad9d-3431-44db-b92d-2c73a8bbe55e",
   "metadata": {},
   "source": [
    "## Q3. Write a code to connect MongoDB to Python. Also, create a database and a collection in MongoDB."
   ]
  },
  {
   "cell_type": "code",
   "execution_count": 1,
   "id": "c0958f6c-28ac-4f2c-8102-83ac437a6778",
   "metadata": {},
   "outputs": [],
   "source": [
    "import pymongo\n",
    "\n",
    "# Connect to MongoDB\n",
    "client = pymongo.MongoClient(\"mongodb://localhost:27017/\")\n",
    "\n",
    "# Create a database\n",
    "db = client[\"mydatabase\"]\n",
    "\n",
    "# Create a collection\n",
    "col = db[\"customers\"]"
   ]
  },
  {
   "cell_type": "code",
   "execution_count": null,
   "id": "7ce380ee-37cb-4bbe-911f-5c46611677d0",
   "metadata": {},
   "outputs": [],
   "source": []
  },
  {
   "cell_type": "markdown",
   "id": "db3f0b00-c08a-4a5f-a29b-5be31b9b747e",
   "metadata": {},
   "source": [
    "## Q4. Using the database and the collection created in question number 3, write a code to insert one record, and insert many records. Use the find() and find_one() methods to print the inserted record."
   ]
  },
  {
   "cell_type": "code",
   "execution_count": null,
   "id": "2b2b806c-46bb-41da-b79d-da81cd554b7e",
   "metadata": {},
   "outputs": [],
   "source": [
    "import pymongo\n",
    "\n",
    "# Connect to MongoDB\n",
    "client = pymongo.MongoClient(\"mongodb://localhost:27017/\")\n",
    "\n",
    "# Create a database\n",
    "db = client[\"mydatabase\"]\n",
    "\n",
    "# Create a collection\n",
    "col = db[\"customers\"]\n",
    "\n",
    "# Insert one record\n",
    "record = {\"name\": \"John\", \"address\": \"Highway 37\"}\n",
    "result = col.insert_one(record)\n",
    "print(\"Inserted record id:\", result.inserted_id)\n",
    "\n",
    "# Insert many records\n",
    "records = [\n",
    "  {\"name\": \"Peter\", \"address\": \"Lowstreet 27\"},\n",
    "  {\"name\": \"Amy\", \"address\": \"Apple st 652\"},\n",
    "  {\"name\": \"Hannah\", \"address\": \"Mountain 21\"},\n",
    "  {\"name\": \"Michael\", \"address\": \"Valley 345\"},\n",
    "  {\"name\": \"Sandy\", \"address\": \"Ocean blvd 2\"},\n",
    "  {\"name\": \"Betty\", \"address\": \"Green Grass 1\"},\n",
    "  {\"name\": \"Richard\", \"address\": \"Sky st 331\"},\n",
    "  {\"name\": \"Susan\", \"address\": \"One way 98\"},\n",
    "  {\"name\": \"Vicky\", \"address\": \"Yellow Garden 2\"},\n",
    "  {\"name\": \"Ben\", \"address\": \"Park Lane 38\"},\n",
    "  {\"name\": \"William\", \"address\": \"Central st 954\"},\n",
    "  {\"name\": \"Chuck\", \"address\": \"Main Road 989\"},\n",
    "  {\"name\": \"Viola\", \"address\": \"Sideway 1633\"}\n",
    "]\n",
    "result = col.insert_many(records)\n",
    "print(\"Inserted record ids:\", result.inserted_ids)\n",
    "\n",
    "# Find one record\n",
    "record = col.find_one()\n",
    "print(\"Found one record:\", record)\n",
    "\n",
    "# Find all records\n",
    "records = col.find()\n",
    "for record in records:\n",
    "    print(record)"
   ]
  },
  {
   "cell_type": "markdown",
   "id": "c94fb439-68eb-4996-96cd-bc904182e0a0",
   "metadata": {},
   "source": [
    "## Q5. Explain how you can use the find() method to query the MongoDB database. Write a simple code to demonstrate this."
   ]
  },
  {
   "cell_type": "markdown",
   "id": "f42745ae-7726-47ab-bc9f-ea980e9a5fb8",
   "metadata": {},
   "source": [
    "The find() method is used to query a MongoDB database and retrieve documents that match the specified criteria. The find() method returns a cursor object that can be iterated over to access the matching documents.\n",
    "\n",
    "The find() method can accept various parameters to specify the query criteria, sort order, and field selection.\n",
    "\n",
    "Here's an example code that demonstrates how to use the find() method to query a MongoDB database:"
   ]
  },
  {
   "cell_type": "code",
   "execution_count": null,
   "id": "452cbd47-8274-4333-bc29-1df5dc24f7c1",
   "metadata": {},
   "outputs": [],
   "source": [
    "import pymongo\n",
    "\n",
    "# Connect to MongoDB\n",
    "client = pymongo.MongoClient(\"mongodb://localhost:27017/\")\n",
    "\n",
    "# Get the database and collection\n",
    "db = client[\"mydatabase\"]\n",
    "col = db[\"customers\"]\n",
    "\n",
    "# Query the collection\n",
    "query = {\"address\": \"Park Lane 38\"}\n",
    "result = col.find(query)\n",
    "\n",
    "# Print the matching documents\n",
    "for doc in result:\n",
    "    print(doc)\n"
   ]
  },
  {
   "cell_type": "markdown",
   "id": "064a2b3b-f660-41b6-8270-95c7cee3f1f6",
   "metadata": {},
   "source": [
    "In the above code, we connect to the MongoDB server and retrieve the \"mydatabase\" database and \"customers\" collection.\n",
    "\n",
    "We then specify a query criteria using the {\"address\": \"Park Lane 38\"} dictionary. This query will retrieve all documents where the \"address\" field is equal to \"Park Lane 38\".\n",
    "\n",
    "We pass this query to the find() method, which returns a cursor object containing all documents that match the query criteria.\n",
    "\n",
    "We then iterate over the cursor object using a for loop and print each document.\n",
    "\n",
    "Note that you can also pass additional parameters to the find() method to specify the sort order, field selection, and limit the number of results."
   ]
  },
  {
   "cell_type": "markdown",
   "id": "3adc6d79-7ce3-48a5-b808-43f73e322513",
   "metadata": {},
   "source": [
    "## Q6. Explain the sort() method. Give an example to demonstrate sorting in MongoDB."
   ]
  },
  {
   "cell_type": "markdown",
   "id": "e7aa3f72-1441-45b5-95f0-62a3ab45ea22",
   "metadata": {},
   "source": [
    "The sort() method in MongoDB is used to sort the results of a query in ascending or descending order based on one or more fields. The sort() method can be used with the find() method to sort the returned documents.\n",
    "\n",
    "The sort() method takes one or more arguments, each representing a field to sort on. Each field can be prefixed with a \"+\" or \"-\" character to indicate ascending or descending order, respectively. If no prefix is used, the sort order defaults to ascending.\n",
    "\n",
    "Here's an example code that demonstrates how to use the sort() method to sort the results of a query in MongoDB:"
   ]
  },
  {
   "cell_type": "code",
   "execution_count": null,
   "id": "2333c072-1fb0-4764-b03c-65c82d9e44e0",
   "metadata": {},
   "outputs": [],
   "source": [
    "import pymongo\n",
    "\n",
    "# Connect to MongoDB\n",
    "client = pymongo.MongoClient(\"mongodb://localhost:27017/\")\n",
    "\n",
    "# Get the database and collection\n",
    "db = client[\"mydatabase\"]\n",
    "col = db[\"customers\"]\n",
    "\n",
    "# Query the collection and sort the results by \"name\" field in descending order\n",
    "result = col.find().sort(\"name\", -1)\n",
    "\n",
    "# Print the sorted documents\n",
    "for doc in result:\n",
    "    print(doc)\n"
   ]
  },
  {
   "cell_type": "markdown",
   "id": "4c29d718-fc13-4c96-b6a6-5646e3a6bc55",
   "metadata": {},
   "source": [
    "In the above code, we connect to the MongoDB server and retrieve the \"mydatabase\" database and \"customers\" collection.\n",
    "\n",
    "We then call the find() method to retrieve all documents in the collection, and pass the sort() method to sort the results by the \"name\" field in descending order (using a \"-\" prefix).\n",
    "\n",
    "The sort() method returns a cursor object containing the sorted documents, which we iterate over using a for loop and print each document.\n",
    "\n",
    "Note that you can sort on multiple fields by passing multiple arguments to the sort() method, each representing a field to sort on. The results are sorted based on the first field, and then by subsequent fields in the order they are passed to the sort() method."
   ]
  },
  {
   "cell_type": "markdown",
   "id": "07478679-a81d-41ed-8173-2f7fe8c2a4e0",
   "metadata": {},
   "source": [
    "## Q7. Explain why delete_one(), delete_many(), and drop() is used."
   ]
  },
  {
   "cell_type": "markdown",
   "id": "35be51d1-f6ac-4d7e-8283-5c6078be2caa",
   "metadata": {},
   "source": [
    "In MongoDB, delete_one(), delete_many(), and drop() are used to remove documents or collections from a database.\n",
    "\n",
    "delete_one() is used to delete a single document from a collection that matches a specified filter. If multiple documents match the filter, only the first one will be deleted.\n",
    "\n",
    "delete_many() is used to delete all documents from a collection that match a specified filter. This method is useful when you want to delete multiple documents at once.\n",
    "\n",
    "drop() is used to delete an entire collection from a database. This method is useful when you want to remove an entire collection and all of its documents.\n",
    "\n",
    "These methods are important in managing MongoDB databases because they provide a way to remove unnecessary data and free up space in the database. They can also be used to delete data that is no longer needed or has become obsolete.\n",
    "\n",
    "It is important to note that these methods are destructive and should be used with caution. It is recommended to make a backup of the data before deleting any documents or collections to prevent accidental data loss."
   ]
  },
  {
   "cell_type": "code",
   "execution_count": null,
   "id": "264ad41d-c425-4aa7-b7cb-871781963782",
   "metadata": {},
   "outputs": [],
   "source": []
  }
 ],
 "metadata": {
  "kernelspec": {
   "display_name": "Python 3 (ipykernel)",
   "language": "python",
   "name": "python3"
  },
  "language_info": {
   "codemirror_mode": {
    "name": "ipython",
    "version": 3
   },
   "file_extension": ".py",
   "mimetype": "text/x-python",
   "name": "python",
   "nbconvert_exporter": "python",
   "pygments_lexer": "ipython3",
   "version": "3.10.8"
  }
 },
 "nbformat": 4,
 "nbformat_minor": 5
}
