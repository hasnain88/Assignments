{
 "cells": [
  {
   "cell_type": "markdown",
   "id": "41113224-cec5-4466-a7aa-f9b9401a80d7",
   "metadata": {},
   "source": [
    "## Assignment Questions"
   ]
  },
  {
   "cell_type": "markdown",
   "id": "74978933-4239-49ff-9de8-a4c2243a2b61",
   "metadata": {},
   "source": [
    "### Q1. Which keyword is used to create a function? Create a function to return a list of odd numbers in the range of 1 to 25."
   ]
  },
  {
   "cell_type": "markdown",
   "id": "c8c3eee1-aee6-4020-b6aa-acdf168f9edc",
   "metadata": {},
   "source": [
    "## Ans:"
   ]
  },
  {
   "cell_type": "markdown",
   "id": "44c20fa5-6b03-490d-bded-e026fa5d2979",
   "metadata": {},
   "source": [
    "#### def key word is used to create a function"
   ]
  },
  {
   "cell_type": "code",
   "execution_count": 99,
   "id": "a109973b-a624-434d-9841-adab3f119cc8",
   "metadata": {},
   "outputs": [
    {
     "name": "stdout",
     "output_type": "stream",
     "text": [
      "[2, 4, 6, 8, 10, 12, 14, 16, 18, 20, 22, 24]\n"
     ]
    }
   ],
   "source": [
    "def odd_numbers():\n",
    "    odd_num = []\n",
    "    for i in range(1, 26):\n",
    "        if i % 2 ==0:\n",
    "            odd_num.append(i)\n",
    "    return odd_num\n",
    "\n",
    "odd_number = odd_numbers()\n",
    "print(odd_number)"
   ]
  },
  {
   "cell_type": "code",
   "execution_count": null,
   "id": "422efd18-4fb8-4082-805b-b729a0d04053",
   "metadata": {},
   "outputs": [],
   "source": []
  },
  {
   "cell_type": "markdown",
   "id": "7992d551-3e32-4dc7-be1c-dc7328d4fb24",
   "metadata": {},
   "source": [
    "### Q2. Why *args and **kwargs is used in some functions? Create a function each for *args and **kwargs to demonstrate their use."
   ]
  },
  {
   "cell_type": "markdown",
   "id": "fd3cbbb1-596b-48eb-81ef-605a73e0a0a9",
   "metadata": {},
   "source": [
    "## Ans:"
   ]
  },
  {
   "cell_type": "markdown",
   "id": "a17bdd06-1d28-4e50-95a0-03ac4cc31eac",
   "metadata": {},
   "source": [
    "#### *args\n",
    "The special syntax *args in function definitions in Python is used to pass a variable number of arguments to a function. It is used to pass a non-keyworded, variable-length argument list. \n",
    "\n",
    "The syntax is to use the symbol * to take in a variable number of arguments; by convention, it is often used with the word args.\n",
    "What *args allows you to do is take in more arguments than the number of formal arguments that you previously defined. With *args, any number of extra arguments can be tacked on to your current formal parameters (including zero extra arguments).\n",
    "For example, we want to make a multiply function that takes any number of arguments and is able to multiply them all together. It can be done using *args.\n",
    "Using the *, the variable that we associate with the * becomes iterable meaning you can do things like iterate over it, run some higher-order functions such as map and filter, etc."
   ]
  },
  {
   "cell_type": "code",
   "execution_count": null,
   "id": "ff1b67d9-8c5d-4350-a845-b4535f66ae5d",
   "metadata": {},
   "outputs": [
    {
     "name": "stdout",
     "output_type": "stream",
     "text": [
      "21\n"
     ]
    }
   ],
   "source": [
    "def numbers(*args):\n",
    "    \n",
    "    add = 0\n",
    "    \n",
    "    for i in args:\n",
    "        add += i\n",
    "    \n",
    "    return add\n",
    "\n",
    "print(numbers(1,2,3,4,5,6))"
   ]
  },
  {
   "cell_type": "markdown",
   "id": "a435f5f0-0c25-4428-a5f0-963912292ee1",
   "metadata": {},
   "source": [
    "#### **args\n",
    "The special syntax **kwargs in function definitions in Python is used to pass a keyworded, variable-length argument list. We use the name kwargs with the double star. The reason is that the double star allows us to pass through keyword arguments (and any number of them).\n",
    "\n",
    "A keyword argument is where you provide a name to the variable as you pass it into the function.\n",
    "One can think of the kwargs as being a dictionary that maps each keyword to the value that we pass alongside it. That is why when we iterate over the kwargs there doesn’t seem to be any order in which they were printed out."
   ]
  },
  {
   "cell_type": "code",
   "execution_count": 4,
   "id": "966db58b-899d-478a-a127-6bee4d7f565e",
   "metadata": {},
   "outputs": [
    {
     "name": "stdout",
     "output_type": "stream",
     "text": [
      "first = Hasnain\n",
      "mid = Inayatali\n",
      "last = Narsandawala\n"
     ]
    }
   ],
   "source": [
    "def myFun(**kwargs):\n",
    "    for key, value in kwargs.items():\n",
    "        print(f\"{key} = {value}\" )\n",
    " \n",
    " \n",
    "\n",
    "myFun(first='Hasnain', mid='Inayatali', last='Narsandawala')"
   ]
  },
  {
   "cell_type": "code",
   "execution_count": null,
   "id": "c1b11d41-abfb-4a8e-9281-dbd5a305bf53",
   "metadata": {},
   "outputs": [],
   "source": []
  },
  {
   "cell_type": "markdown",
   "id": "208c48ee-fb6a-45fd-97a7-2acb8e5b901c",
   "metadata": {},
   "source": [
    "## Q3.  What is an iterator in python? Name the method used to initialise the iterator object and the method used for iteration. Use these methods to print the first five elements of the given list [2, 4, 6, 8, 10, 12, 14, 16, 18, 20]."
   ]
  },
  {
   "cell_type": "markdown",
   "id": "1cab5c12-4b0b-4c90-a852-5cec95f03136",
   "metadata": {},
   "source": [
    "### Ans: "
   ]
  },
  {
   "cell_type": "markdown",
   "id": "c2b1b026-307c-45ce-9952-5f9087d97d54",
   "metadata": {},
   "source": [
    "### In Python, an iterator is an object that allows you to iterate over collections of data, such as lists, tuples, dictionaries, and sets. Python iterators implement the iterator design pattern, which allows you to traverse a container and access its elements."
   ]
  },
  {
   "cell_type": "markdown",
   "id": "cdba477a-b0f7-4dd5-a47c-c5615d1fcd0c",
   "metadata": {},
   "source": [
    "### Iter() method is used to initialize the iterator object so that the instance of this object can be used for iterating"
   ]
  },
  {
   "cell_type": "code",
   "execution_count": 13,
   "id": "ba553693-68e5-4c2f-92e2-bdcbc9f74c83",
   "metadata": {},
   "outputs": [],
   "source": [
    "li = [2, 4, 6, 8, 10, 12, 14, 16, 18, 20]"
   ]
  },
  {
   "cell_type": "code",
   "execution_count": 14,
   "id": "c7e522f6-a96b-41dc-ae0d-4f6021095bb9",
   "metadata": {},
   "outputs": [],
   "source": [
    "my_iter = iter(li)"
   ]
  },
  {
   "cell_type": "code",
   "execution_count": 15,
   "id": "6a06100b-f748-498d-a4ab-6ecaeedbf839",
   "metadata": {},
   "outputs": [
    {
     "data": {
      "text/plain": [
       "2"
      ]
     },
     "execution_count": 15,
     "metadata": {},
     "output_type": "execute_result"
    }
   ],
   "source": [
    "next(my_iter)"
   ]
  },
  {
   "cell_type": "code",
   "execution_count": 16,
   "id": "dbff5547-05df-4e76-9bb7-16175d0ac247",
   "metadata": {},
   "outputs": [
    {
     "data": {
      "text/plain": [
       "4"
      ]
     },
     "execution_count": 16,
     "metadata": {},
     "output_type": "execute_result"
    }
   ],
   "source": [
    "next(my_iter)"
   ]
  },
  {
   "cell_type": "code",
   "execution_count": 17,
   "id": "81d32c8b-04dc-4aa5-9e26-0ddb009d58c1",
   "metadata": {},
   "outputs": [
    {
     "data": {
      "text/plain": [
       "6"
      ]
     },
     "execution_count": 17,
     "metadata": {},
     "output_type": "execute_result"
    }
   ],
   "source": [
    "next(my_iter)"
   ]
  },
  {
   "cell_type": "code",
   "execution_count": 18,
   "id": "ad3d50ae-3dab-4e3b-8311-fcdf3e953d65",
   "metadata": {},
   "outputs": [
    {
     "data": {
      "text/plain": [
       "8"
      ]
     },
     "execution_count": 18,
     "metadata": {},
     "output_type": "execute_result"
    }
   ],
   "source": [
    "next(my_iter)"
   ]
  },
  {
   "cell_type": "code",
   "execution_count": 19,
   "id": "688feee7-7267-4a5e-ad9f-93a37eb13925",
   "metadata": {},
   "outputs": [
    {
     "data": {
      "text/plain": [
       "10"
      ]
     },
     "execution_count": 19,
     "metadata": {},
     "output_type": "execute_result"
    }
   ],
   "source": [
    "next(my_iter)"
   ]
  },
  {
   "cell_type": "markdown",
   "id": "ff3deef7-0f68-46c0-a620-f64bddc9f140",
   "metadata": {},
   "source": [
    "## Q4.  What is a generator function in python? Why yield keyword is used? Give an example of a generator function."
   ]
  },
  {
   "cell_type": "markdown",
   "id": "74b788f4-97cb-448e-a0df-dbf9e93583dc",
   "metadata": {},
   "source": [
    "### ANS"
   ]
  },
  {
   "cell_type": "markdown",
   "id": "48ffbfe7-89ae-4d63-95d2-ce9b1627f9d8",
   "metadata": {},
   "source": [
    "### A Python generator function allows to declare a function that behaves like an iterator, providing a faster and easier way to create iterators. They can be used on an abstract container of data to turn it into an iterable object like lists, dictionaries and strings."
   ]
  },
  {
   "cell_type": "markdown",
   "id": "1b1a1900-e6ce-4af7-9797-69aaa8d48caf",
   "metadata": {},
   "source": [
    "### The yield keyword pauses generator function execution and the value of the expression following the yield keyword is returned to the generator's caller. It can be thought of as a generator-based version of the return keyword. yield can only be used directly within the generator function that contains it."
   ]
  },
  {
   "cell_type": "markdown",
   "id": "8cad83df-5035-4157-96d6-3be91c076816",
   "metadata": {},
   "source": [
    "### Example of Generator Function with Fibbonaci Number Generation"
   ]
  },
  {
   "cell_type": "code",
   "execution_count": 21,
   "id": "2f940bf5-fab9-4229-9efa-e6b49790e043",
   "metadata": {},
   "outputs": [],
   "source": [
    "def fibbo (n):\n",
    "    a,b = 0,1\n",
    "    for i in range(n):\n",
    "        yield a\n",
    "        a,b =b, a+b"
   ]
  },
  {
   "cell_type": "code",
   "execution_count": 22,
   "id": "d7106d13-de65-46df-b862-55ab5c6e2e65",
   "metadata": {},
   "outputs": [
    {
     "name": "stdout",
     "output_type": "stream",
     "text": [
      "0\n",
      "1\n",
      "1\n",
      "2\n",
      "3\n",
      "5\n",
      "8\n",
      "13\n",
      "21\n",
      "34\n"
     ]
    }
   ],
   "source": [
    "for i in fibbo(10):\n",
    "    print(i)"
   ]
  },
  {
   "cell_type": "markdown",
   "id": "2cfec51e-e2a1-433b-9412-17e5c4d4b37d",
   "metadata": {},
   "source": [
    "## Q5. Create a generator function for prime numbers less than 1000. Use the next() method to print the first 20 prime numbers."
   ]
  },
  {
   "cell_type": "markdown",
   "id": "2db42c08-a50c-44a1-9e95-cda1e7bc338b",
   "metadata": {},
   "source": [
    "### ANS"
   ]
  },
  {
   "cell_type": "code",
   "execution_count": 89,
   "id": "e0bef72a-ce40-4424-b76f-b181b07fec6c",
   "metadata": {},
   "outputs": [],
   "source": [
    "num = 15"
   ]
  },
  {
   "cell_type": "code",
   "execution_count": 3,
   "id": "0741db40-7c57-441f-b1fe-4abfe39fa581",
   "metadata": {},
   "outputs": [],
   "source": [
    "def primes():\n",
    "    # Use the Sieve of Eratosthenes algorithm to generate prime numbers less than 1000\n",
    "    is_prime = [True] * 1000\n",
    "    is_prime[0] = is_prime[1] = False\n",
    "    for i in range(2, int(1000 ** 0.5) + 1):\n",
    "        if is_prime[i]:\n",
    "            for j in range(i * i, 1000, i):\n",
    "                is_prime[j] = False\n",
    "    # Yield prime numbers less than 1000\n",
    "    for i in range(2, 1000):\n",
    "        if is_prime[i]:\n",
    "            yield i"
   ]
  },
  {
   "cell_type": "code",
   "execution_count": 6,
   "id": "f98d4ff0-f806-4248-9977-9c9e52872d54",
   "metadata": {},
   "outputs": [
    {
     "name": "stdout",
     "output_type": "stream",
     "text": [
      "2\n",
      "3\n",
      "5\n",
      "7\n",
      "11\n",
      "13\n",
      "17\n",
      "19\n",
      "23\n",
      "29\n",
      "31\n",
      "37\n",
      "41\n",
      "43\n",
      "47\n",
      "53\n",
      "59\n",
      "61\n",
      "67\n",
      "71\n"
     ]
    }
   ],
   "source": [
    "prime_generator = primes()\n",
    "for i in range(20):\n",
    "    print(next(prime_generator))"
   ]
  },
  {
   "cell_type": "code",
   "execution_count": null,
   "id": "a0ba390b-416e-4ff0-804d-31af4b1cbc03",
   "metadata": {},
   "outputs": [],
   "source": []
  },
  {
   "cell_type": "markdown",
   "id": "29723185-f8f6-44c2-85a0-979b425e7cee",
   "metadata": {},
   "source": [
    "## Q6. Write a python program to print the first 10 Fibonacci numbers using a while loop."
   ]
  },
  {
   "cell_type": "markdown",
   "id": "750c9adf-29be-4302-a96d-379a514e437c",
   "metadata": {},
   "source": [
    "### ANS"
   ]
  },
  {
   "cell_type": "code",
   "execution_count": 68,
   "id": "fdb7f387-fb24-4452-8de1-cbc44dc47958",
   "metadata": {},
   "outputs": [
    {
     "name": "stdout",
     "output_type": "stream",
     "text": [
      "0\n",
      "1\n",
      "1\n",
      "2\n",
      "3\n",
      "5\n",
      "8\n",
      "13\n",
      "21\n",
      "34\n"
     ]
    }
   ],
   "source": [
    "counter = 1\n",
    "number = 10\n",
    "a,b = 0,1\n",
    "while counter <= number:  \n",
    "\n",
    "    print(a)\n",
    "    a,b =b, a+b\n",
    "    counter +=1    \n",
    "    \n",
    "    "
   ]
  },
  {
   "cell_type": "markdown",
   "id": "4069953f-2cea-434c-93dd-d2fdd350083f",
   "metadata": {},
   "source": []
  },
  {
   "cell_type": "markdown",
   "id": "de8280a0-8d98-4e38-91e9-8612e2e222ad",
   "metadata": {},
   "source": [
    "## Q7. Write a List Comprehension to iterate through the given string: ‘pwskills’. Expected output: ['p', 'w', 's', 'k', 'i', 'l', 'l', 's']"
   ]
  },
  {
   "cell_type": "markdown",
   "id": "3c2f1844-20cf-433c-8bec-55bea7090f68",
   "metadata": {},
   "source": [
    "### ANS"
   ]
  },
  {
   "cell_type": "code",
   "execution_count": 69,
   "id": "61d73647-5b0f-40d7-9050-2ea0aee52d7d",
   "metadata": {},
   "outputs": [],
   "source": [
    "string = \"pwskills\""
   ]
  },
  {
   "cell_type": "code",
   "execution_count": 71,
   "id": "25201725-163d-4bb3-b2df-4c9ff639837a",
   "metadata": {},
   "outputs": [],
   "source": [
    "new_string = [i  for i in string ]"
   ]
  },
  {
   "cell_type": "code",
   "execution_count": 72,
   "id": "546900b7-bc64-465f-91b6-38f74bb786fc",
   "metadata": {},
   "outputs": [
    {
     "data": {
      "text/plain": [
       "['p', 'w', 's', 'k', 'i', 'l', 'l', 's']"
      ]
     },
     "execution_count": 72,
     "metadata": {},
     "output_type": "execute_result"
    }
   ],
   "source": [
    "new_string"
   ]
  },
  {
   "cell_type": "code",
   "execution_count": null,
   "id": "3ba35361-5d9b-4a26-b4fc-9a9302df89c0",
   "metadata": {},
   "outputs": [],
   "source": []
  },
  {
   "cell_type": "markdown",
   "id": "46896527-e9a0-4b4a-9397-3231d4b83728",
   "metadata": {},
   "source": [
    "## Q8. Write a python program to check whether a given number is Palindrome or not using a while loop."
   ]
  },
  {
   "cell_type": "markdown",
   "id": "b7efdcce-eb68-4699-8089-0dfc438d0265",
   "metadata": {},
   "source": [
    "### ANS"
   ]
  },
  {
   "cell_type": "code",
   "execution_count": 76,
   "id": "6f40e9e1-77e3-45cf-b1ec-bd655ed753d0",
   "metadata": {},
   "outputs": [
    {
     "name": "stdin",
     "output_type": "stream",
     "text": [
      "Enter any number: 12\n"
     ]
    },
    {
     "name": "stdout",
     "output_type": "stream",
     "text": [
      "Not a palindrome!\n"
     ]
    }
   ],
   "source": [
    "num=int(input(\"Enter any number:\"))\n",
    "temp=num\n",
    "rev=0\n",
    "while(num>0):\n",
    "    dig=num%10\n",
    "    rev=rev*10+dig\n",
    "    num=num//10\n",
    "if(temp==rev):\n",
    "    print(\"The {0} number is palindrome!\".format(temp))\n",
    "else:\n",
    "    print(\"Not a palindrome!\")"
   ]
  },
  {
   "cell_type": "code",
   "execution_count": null,
   "id": "917e7c49-26c6-4ebc-b449-531f2482b996",
   "metadata": {},
   "outputs": [],
   "source": []
  },
  {
   "cell_type": "markdown",
   "id": "5c71600c-9c00-4c93-bfb6-3e39d42fc31c",
   "metadata": {},
   "source": [
    "## Q9. Write a code to print odd numbers from 1 to 100 using list comprehension.\n",
    "\n",
    "Note: Use a list comprehension to create a list from 1 to 100 and use another List comprehension to filter\n",
    "out odd numbers."
   ]
  },
  {
   "cell_type": "markdown",
   "id": "a9cd0f2a-edcf-4ae4-a77d-77d9bc99cac7",
   "metadata": {},
   "source": [
    "### ANS"
   ]
  },
  {
   "cell_type": "code",
   "execution_count": 85,
   "id": "dc354389-79d7-427c-8b5f-7cd52b7e6be6",
   "metadata": {},
   "outputs": [],
   "source": [
    "data_list = [i for i in range(101)]"
   ]
  },
  {
   "cell_type": "code",
   "execution_count": 87,
   "id": "6b835905-7c83-45d1-8730-b95c86d6b020",
   "metadata": {},
   "outputs": [],
   "source": [
    "odd_numbers = [i for i in data_list if i%2==0]"
   ]
  },
  {
   "cell_type": "code",
   "execution_count": 88,
   "id": "3f649074-4ae2-44c1-927d-72bebb553dad",
   "metadata": {},
   "outputs": [
    {
     "name": "stdout",
     "output_type": "stream",
     "text": [
      "[0, 2, 4, 6, 8, 10, 12, 14, 16, 18, 20, 22, 24, 26, 28, 30, 32, 34, 36, 38, 40, 42, 44, 46, 48, 50, 52, 54, 56, 58, 60, 62, 64, 66, 68, 70, 72, 74, 76, 78, 80, 82, 84, 86, 88, 90, 92, 94, 96, 98, 100]\n"
     ]
    }
   ],
   "source": [
    "print(odd_numbers)"
   ]
  },
  {
   "cell_type": "code",
   "execution_count": null,
   "id": "402bc6a3-ea85-40d7-921d-7d34e0e69427",
   "metadata": {},
   "outputs": [],
   "source": []
  }
 ],
 "metadata": {
  "kernelspec": {
   "display_name": "Python 3 (ipykernel)",
   "language": "python",
   "name": "python3"
  },
  "language_info": {
   "codemirror_mode": {
    "name": "ipython",
    "version": 3
   },
   "file_extension": ".py",
   "mimetype": "text/x-python",
   "name": "python",
   "nbconvert_exporter": "python",
   "pygments_lexer": "ipython3",
   "version": "3.10.8"
  }
 },
 "nbformat": 4,
 "nbformat_minor": 5
}
