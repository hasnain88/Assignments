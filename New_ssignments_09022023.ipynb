{
 "cells": [
  {
   "cell_type": "markdown",
   "id": "1b6fdb53-ddd4-4c1b-a194-7df4efad7818",
   "metadata": {},
   "source": [
    "## Q1, Create a vehicle class with an init method having instance variables as name_of_vehicle, max_speed and average_of_vehicle."
   ]
  },
  {
   "cell_type": "markdown",
   "id": "4fe9ec70-0594-43a3-b4ad-18a511f2104e",
   "metadata": {},
   "source": [
    "### ANS"
   ]
  },
  {
   "cell_type": "markdown",
   "id": "cf243e58-0afa-403b-98de-d9eed2c7de92",
   "metadata": {},
   "source": [
    "Here's an example of a Vehicle class with an __init__() method that sets instance variables name_of_vehicle, max_speed, and average_of_vehicle:"
   ]
  },
  {
   "cell_type": "code",
   "execution_count": 7,
   "id": "80083f1f-3782-42bd-9f44-5390590833cd",
   "metadata": {},
   "outputs": [],
   "source": [
    "class Vehicle:\n",
    "    def __init__(self, name_of_vehicle, max_speed, average_of_vehicle):\n",
    "        self.name_of_vehicle = name_of_vehicle\n",
    "        self.max_speed = max_speed\n",
    "        self.average_of_vehicle = average_of_vehicle"
   ]
  },
  {
   "cell_type": "markdown",
   "id": "77f056d2-f6d0-47b5-a8c4-7de20b1935ad",
   "metadata": {},
   "source": [
    "In this example, the Vehicle class has an __init__() method that takes three parameters: name_of_vehicle, max_speed, and average_of_vehicle. These parameters are used to initialize instance variables of the same names using the self keyword.\n",
    "\n",
    "You can create an instance of this class by calling the Vehicle constructor and passing in the appropriate arguments, like this:"
   ]
  },
  {
   "cell_type": "code",
   "execution_count": 8,
   "id": "fab579cd-699f-4595-a7fd-8c30a4e9f579",
   "metadata": {},
   "outputs": [],
   "source": [
    "my_vehicle = Vehicle(\"Car\", 200, 50)"
   ]
  },
  {
   "cell_type": "markdown",
   "id": "857ed1a4-6a22-41d6-b816-98beecda39d1",
   "metadata": {},
   "source": [
    "This creates an instance of the Vehicle class with the name_of_vehicle set to \"Car\", max_speed set to 200, and average_of_vehicle set to 50. You can access these instance variables using dot notation, like this:"
   ]
  },
  {
   "cell_type": "code",
   "execution_count": 9,
   "id": "0539a848-a79b-4b3f-8db6-916da5c38137",
   "metadata": {},
   "outputs": [
    {
     "name": "stdout",
     "output_type": "stream",
     "text": [
      "Car\n",
      "200\n",
      "50\n"
     ]
    }
   ],
   "source": [
    "print(my_vehicle.name_of_vehicle) # Output: \"Car\"\n",
    "print(my_vehicle.max_speed) # Output: 200\n",
    "print(my_vehicle.average_of_vehicle) # Output: 50\n"
   ]
  },
  {
   "cell_type": "code",
   "execution_count": null,
   "id": "7ea67574-3663-4610-9e9a-19f339f7b03c",
   "metadata": {},
   "outputs": [],
   "source": []
  },
  {
   "cell_type": "markdown",
   "id": "81bee220-8e84-4dd0-8bac-dda8ce02f7f2",
   "metadata": {},
   "source": [
    "## Q2.  Create a child class car from the vehicle class created in Que 1, which will inherit the vehicle class. Create a method named seating_capacity which takes capacity as an argument and returns the name of the vehicle and its seating capacity."
   ]
  },
  {
   "cell_type": "markdown",
   "id": "3b7d7be4-fb61-4d32-b1e0-fa2c7900634f",
   "metadata": {},
   "source": [
    "### ANS"
   ]
  },
  {
   "cell_type": "markdown",
   "id": "7cef279f-7631-4fd1-ac57-a78952c3665e",
   "metadata": {},
   "source": [
    "Here's an example code to create a child class Car from the Vehicle class with a method seating_capacity() that takes a capacity argument and returns the name of the vehicle and its seating capacity:"
   ]
  },
  {
   "cell_type": "code",
   "execution_count": 15,
   "id": "aeb5e499-8620-415c-97da-52f6f22e3470",
   "metadata": {},
   "outputs": [
    {
     "name": "stdout",
     "output_type": "stream",
     "text": [
      "Honda Civic has a seating capacity of 5 people.\n"
     ]
    }
   ],
   "source": [
    "class Vehicle:\n",
    "    def __init__(self, name_of_vehicle, max_speed, average_of_vehicle):\n",
    "        self.name_of_vehicle = name_of_vehicle\n",
    "        self.max_speed = max_speed\n",
    "        self.average_of_vehicle = average_of_vehicle\n",
    "\n",
    "class Car(Vehicle):\n",
    "    def __init__(self, name_of_vehicle, max_speed, average_of_vehicle):\n",
    "        super().__init__(name_of_vehicle, max_speed, average_of_vehicle)\n",
    "\n",
    "    def seating_capacity(self, capacity):\n",
    "        return f\"{self.name_of_vehicle} has a seating capacity of {capacity} people.\"\n",
    "\n",
    "car = Car(\"Honda Civic\", 220, 15)\n",
    "\n",
    "print(car.seating_capacity(5)) # Output: Honda Civic has a seating capacity of 5 people.\n"
   ]
  },
  {
   "cell_type": "markdown",
   "id": "7cd8474f-49a2-42d8-b436-0f0b436f5a27",
   "metadata": {},
   "source": [
    "In this example, we define a Vehicle class with an __init__() method that initializes the instance variables name_of_vehicle, max_speed, and average_of_vehicle.\n",
    "\n",
    "We then define a Car class that inherits from Vehicle and overrides its constructor with super().__init__(...) to initialize the inherited instance variables.\n",
    "\n",
    "We also define a seating_capacity() method that takes a capacity argument and returns a string that includes the name of the vehicle and its seating capacity.\n",
    "\n",
    "Finally, we create an instance of the Car class with the name \"Honda Civic\", a maximum speed of 220 km/h, and an average of 15 km/l. We then call the seating_capacity() method of the Car class with a capacity of 5, which returns a string that includes the name of the vehicle and its seating capacity."
   ]
  },
  {
   "cell_type": "code",
   "execution_count": null,
   "id": "456443ca-c0bf-4d6c-b7ec-928f29dedbf3",
   "metadata": {},
   "outputs": [],
   "source": []
  },
  {
   "cell_type": "markdown",
   "id": "54e02d54-acae-430f-9040-ff9ee6548578",
   "metadata": {},
   "source": [
    "## Q3. What is multiple inheritance? Write a python code to demonstrate multiple inheritance."
   ]
  },
  {
   "cell_type": "markdown",
   "id": "980c7f6c-70b2-4d9b-8e24-396f6bae5738",
   "metadata": {},
   "source": [
    "### ANS"
   ]
  },
  {
   "cell_type": "markdown",
   "id": "a9ebee59-e3ef-4990-8e08-21f0a79acbef",
   "metadata": {},
   "source": [
    "Multiple inheritance is a feature of object-oriented programming languages where a class can inherit from more than one parent class. This allows the child class to inherit properties and methods from multiple parent classes.\n",
    "\n",
    "Here's an example code to demonstrate multiple inheritance in Python:"
   ]
  },
  {
   "cell_type": "code",
   "execution_count": 10,
   "id": "a25d4b2d-143f-47cf-be7b-25be6585eb56",
   "metadata": {},
   "outputs": [
    {
     "name": "stdout",
     "output_type": "stream",
     "text": [
      "Drawing a square with side 5 and color blue\n"
     ]
    }
   ],
   "source": [
    "class Shape:\n",
    "    def __init__(self, color):\n",
    "        self.color = color\n",
    "    \n",
    "    def draw(self):\n",
    "        pass\n",
    "\n",
    "class Circle(Shape):\n",
    "    def __init__(self, color, radius):\n",
    "        super().__init__(color)\n",
    "        self.radius = radius\n",
    "    \n",
    "    def draw(self):\n",
    "        print(f\"Drawing a circle with radius {self.radius} and color {self.color}\")\n",
    "\n",
    "class Rectangle(Shape):\n",
    "    def __init__(self, color, width, height):\n",
    "        super().__init__(color)\n",
    "        self.width = width\n",
    "        self.height = height\n",
    "    \n",
    "    def draw(self):\n",
    "        print(f\"Drawing a rectangle with width {self.width}, height {self.height}, and color {self.color}\")\n",
    "\n",
    "class Square(Rectangle, Shape):\n",
    "    def __init__(self, color, side):\n",
    "        Rectangle.__init__(self, color, side, side)\n",
    "        Shape.__init__(self, color)\n",
    "    \n",
    "    def draw(self):\n",
    "        print(f\"Drawing a square with side {self.width} and color {self.color}\")\n",
    "\n",
    "square = Square(\"blue\", 5)\n",
    "square.draw() # Output: Drawing a square with side 5 and color blue"
   ]
  },
  {
   "cell_type": "markdown",
   "id": "7518c1ae-0aac-448e-a0df-d3fb475899da",
   "metadata": {},
   "source": [
    "In this example, we define a Shape class with an __init__() method that sets the color instance variable and a draw() method that is overridden by the child classes.\n",
    "\n",
    "We then define two child classes Circle and Rectangle that inherit from Shape and provide their own implementations of the draw() method.\n",
    "\n",
    "Finally, we define a Square class that inherits from both Rectangle and Shape. In the __init__() method of Square, we call the constructors of both parent classes and pass in the appropriate arguments. We also override the draw() method of Square to provide a specialized implementation.\n",
    "\n",
    "When we create an instance of Square and call its draw() method, the method defined in the Square class is called, which prints out \"Drawing a square with side 5 and color blue\". This demonstrates how multiple inheritance allows a child class to inherit properties and methods from multiple parent classes."
   ]
  },
  {
   "cell_type": "code",
   "execution_count": null,
   "id": "476aeb0e-f13d-4cd9-8d23-a46943bd05db",
   "metadata": {},
   "outputs": [],
   "source": []
  },
  {
   "cell_type": "markdown",
   "id": "c3743103-501e-4dea-84e8-98e100833974",
   "metadata": {},
   "source": [
    "## Q4. What are getter and setter in python? Create a class and create a getter and a setter method in this class."
   ]
  },
  {
   "cell_type": "markdown",
   "id": "619b9d7e-e98f-49b5-94e1-b889ae4d8afd",
   "metadata": {},
   "source": [
    "### ANS"
   ]
  },
  {
   "cell_type": "markdown",
   "id": "1f9df94a-3f27-4140-8bd2-271a7d69a73e",
   "metadata": {},
   "source": [
    "In Python, getter and setter methods are used to access and modify the values of instance variables of a class. Getter methods are used to get the value of an instance variable, while setter methods are used to set the value of an instance variable.\n",
    "\n",
    "Here's an example of a Person class that has an instance variable age, and getter and setter methods to access and modify its value:"
   ]
  },
  {
   "cell_type": "code",
   "execution_count": 11,
   "id": "6f4d0bf5-273a-4a3f-8800-ba6d9bd2aae9",
   "metadata": {},
   "outputs": [],
   "source": [
    "class Person:\n",
    "    def __init__(self, age):\n",
    "        self._age = age\n",
    "    \n",
    "    def get_age(self):\n",
    "        return self._age\n",
    "    \n",
    "    def set_age(self, age):\n",
    "        if age < 0:\n",
    "            raise ValueError(\"Age cannot be negative\")\n",
    "        self._age = age\n"
   ]
  },
  {
   "cell_type": "markdown",
   "id": "56d4131e-ccce-4631-b815-b4732a4f5a14",
   "metadata": {},
   "source": [
    "In this example, the Person class has an instance variable _age, which is initialized in the constructor. We define two methods get_age() and set_age() to get and set the value of _age respectively.\n",
    "\n",
    "The get_age() method returns the value of _age, while the set_age() method checks if the input age is negative and raises a ValueError if it is. If the input age is non-negative, the method sets the value of _age to the input age.\n",
    "\n",
    "We use the underscore convention in the instance variable _age to indicate that it is a private variable, which means it should not be accessed or modified directly from outside the class.\n",
    "\n",
    "Here's an example of how to use the getter and setter methods of the "
   ]
  },
  {
   "cell_type": "code",
   "execution_count": 13,
   "id": "b4da0e72-8412-456e-ad1e-d36ff27da463",
   "metadata": {},
   "outputs": [
    {
     "name": "stdout",
     "output_type": "stream",
     "text": [
      "25\n",
      "30\n"
     ]
    }
   ],
   "source": [
    "person = Person(25)\n",
    "print(person.get_age()) # Output: 25\n",
    "\n",
    "person.set_age(30)\n",
    "print(person.get_age()) # Output: 30\n",
    "\n",
    "person.set_age(-5) # Raises ValueError: Age cannot be negative"
   ]
  },
  {
   "cell_type": "markdown",
   "id": "aad75da6-4a4c-417e-ba33-61fa551bf561",
   "metadata": {},
   "source": [
    "In this example, the Person class has an instance variable _age, which is initialized in the constructor. We define two methods get_age() and set_age() to get and set the value of _age respectively.\n",
    "\n",
    "The get_age() method returns the value of _age, while the set_age() method checks if the input age is negative and raises a ValueError if it is. If the input age is non-negative, the method sets the value of _age to the input age.\n",
    "\n",
    "We use the underscore convention in the instance variable _age to indicate that it is a private variable, which means it should not be accessed or modified directly from outside the class.\n",
    "\n",
    "Here's an example of how to use the getter and setter methods of the "
   ]
  },
  {
   "cell_type": "markdown",
   "id": "d42a0f89-50b5-49fc-88af-7b8a67a0ea84",
   "metadata": {},
   "source": [
    "In this example, we create an instance of the Person class with an age of 25. We use the get_age() method to get the age of the person, and the set_age() method to set the age of the person to 30.\n",
    "\n",
    "When we try to set the age to a negative value, the set_age() method raises a ValueError as expected."
   ]
  },
  {
   "cell_type": "code",
   "execution_count": null,
   "id": "5bb54536-5e2d-4699-8cc6-313784105b7b",
   "metadata": {},
   "outputs": [],
   "source": []
  },
  {
   "cell_type": "markdown",
   "id": "9d148a68-ff75-41e1-9506-4f1effcf38de",
   "metadata": {},
   "source": [
    "## Q5.What is method overriding in python? Write a python code to demonstrate method overriding."
   ]
  },
  {
   "cell_type": "markdown",
   "id": "f4ab5b27-75ca-4f47-8c9d-f06e26d051bb",
   "metadata": {},
   "source": [
    "### ANS"
   ]
  },
  {
   "cell_type": "markdown",
   "id": "b2393fd0-dece-41fa-8412-9dcf2ef569a7",
   "metadata": {},
   "source": [
    "Method overriding is a feature of object-oriented programming where a subclass can provide a different implementation of a method that is already defined in its parent class. The subclass provides its own implementation of the method with the same name, arguments, and return type as the parent class method.\n",
    "\n",
    "Here's an example code to demonstrate method overriding in Python:"
   ]
  },
  {
   "cell_type": "code",
   "execution_count": 14,
   "id": "7e32236b-9b25-4830-9a4e-940d3d050c9d",
   "metadata": {},
   "outputs": [
    {
     "name": "stdout",
     "output_type": "stream",
     "text": [
      "The animal speaks\n",
      "The dog barks\n"
     ]
    }
   ],
   "source": [
    "class Animal:\n",
    "    def __init__(self, name):\n",
    "        self.name = name\n",
    "    \n",
    "    def speak(self):\n",
    "        print(\"The animal speaks\")\n",
    "\n",
    "class Dog(Animal):\n",
    "    def __init__(self, name):\n",
    "        super().__init__(name)\n",
    "    \n",
    "    def speak(self):\n",
    "        print(\"The dog barks\")\n",
    "\n",
    "animal = Animal(\"Animal\")\n",
    "dog = Dog(\"Dog\")\n",
    "\n",
    "animal.speak() # Output: The animal speaks\n",
    "dog.speak() # Output: The dog barks"
   ]
  },
  {
   "cell_type": "markdown",
   "id": "2a1e52b2-c0c5-42ff-becc-911b045b76b3",
   "metadata": {},
   "source": [
    "In this example, we define an Animal class with an instance variable name and a speak() method that prints \"The animal speaks\".\n",
    "\n",
    "We then define a Dog class that inherits from Animal and overrides the speak() method with its own implementation that prints \"The dog barks\".\n",
    "\n",
    "When we create instances of both classes and call their speak() method, the method of the child class Dog is called for the dog instance, and the method of the parent class Animal is called for the animal instance.\n",
    "\n",
    "This demonstrates how method overriding allows a subclass to provide its own implementation of a method defined in its parent class."
   ]
  }
 ],
 "metadata": {
  "kernelspec": {
   "display_name": "Python 3 (ipykernel)",
   "language": "python",
   "name": "python3"
  },
  "language_info": {
   "codemirror_mode": {
    "name": "ipython",
    "version": 3
   },
   "file_extension": ".py",
   "mimetype": "text/x-python",
   "name": "python",
   "nbconvert_exporter": "python",
   "pygments_lexer": "ipython3",
   "version": "3.10.8"
  }
 },
 "nbformat": 4,
 "nbformat_minor": 5
}
