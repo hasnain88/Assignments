{
 "cells": [
  {
   "cell_type": "markdown",
   "id": "f273fc60-c93b-4ae6-9ef9-63fb9ab3e0c3",
   "metadata": {},
   "source": [
    "## Q1. Create a python program to sort the given list of tuples based on integer value using a lambda function.\n",
    "## [('Sachin Tendulkar', 34357), ('Ricky Ponting', 27483), ('Jack Kallis', 25534), ('Virat Kohli', 24936)]\n",
    "### ANS"
   ]
  },
  {
   "cell_type": "code",
   "execution_count": 23,
   "id": "812d1950-14b9-42d1-bf3b-449981faa41b",
   "metadata": {},
   "outputs": [],
   "source": [
    "data = [('Sachin Tendulkar', 34357), ('Ricky Ponting', 27483), ('Jack Kallis', 25534), ('Virat Kohli', 24936)]"
   ]
  },
  {
   "cell_type": "code",
   "execution_count": 24,
   "id": "043a8163-6a2b-4cf1-9b0c-fbf9b76f79c1",
   "metadata": {},
   "outputs": [
    {
     "name": "stdout",
     "output_type": "stream",
     "text": [
      "[('Sachin Tendulkar', 34357), ('Ricky Ponting', 27483), ('Jack Kallis', 25534), ('Virat Kohli', 24936)]\n"
     ]
    }
   ],
   "source": [
    "sorted_data = sorted(data, key=lambda x: x[1], reverse=True)\n",
    "print(sorted_data)"
   ]
  },
  {
   "cell_type": "code",
   "execution_count": null,
   "id": "c7de84e7-673c-4cbd-b3a4-734db4f25c28",
   "metadata": {},
   "outputs": [],
   "source": []
  },
  {
   "cell_type": "markdown",
   "id": "4bddc7e1-48f8-4950-b4ed-ae88e4c8250b",
   "metadata": {},
   "source": [
    "## Q2. Write a Python Program to find the squares of all the numbers in the given list of integers using lambda and map functions.[1, 2, 3, 4, 5, 6, 7, 8, 9, 10]\n",
    "### ANS"
   ]
  },
  {
   "cell_type": "code",
   "execution_count": 25,
   "id": "08f3f34a-02fa-4e61-b88b-096ec22ad001",
   "metadata": {},
   "outputs": [],
   "source": [
    "data1=[1, 2, 3, 4, 5, 6, 7, 8, 9, 10]"
   ]
  },
  {
   "cell_type": "code",
   "execution_count": 26,
   "id": "6205a35e-5d4f-4a60-8f47-044461616c39",
   "metadata": {},
   "outputs": [],
   "source": [
    "data1=map(lambda x:x**2,data1)"
   ]
  },
  {
   "cell_type": "code",
   "execution_count": 27,
   "id": "381e9063-d978-4584-907a-9f3392917bf5",
   "metadata": {},
   "outputs": [
    {
     "data": {
      "text/plain": [
       "[1, 4, 9, 16, 25, 36, 49, 64, 81, 100]"
      ]
     },
     "execution_count": 27,
     "metadata": {},
     "output_type": "execute_result"
    }
   ],
   "source": [
    "list(data1)"
   ]
  },
  {
   "cell_type": "code",
   "execution_count": null,
   "id": "21663b8b-6aa7-4ff2-b337-0d68a473585e",
   "metadata": {},
   "outputs": [],
   "source": []
  },
  {
   "cell_type": "markdown",
   "id": "3c70a355-182b-417a-b7d4-add2f4e96f17",
   "metadata": {},
   "source": [
    "## Q3. Write a python program to convert the given list of integers into a tuple of strings. Use map and lambda functions Given String: [1, 2, 3, 4, 5, 6, 7, 8, 9, 10] Expected output: ('1', '2', '3', '4', '5', '6', '7', '8', '9', '10')\n",
    "\n",
    "### ANS"
   ]
  },
  {
   "cell_type": "code",
   "execution_count": 28,
   "id": "fd2f2537-c373-413b-bca5-25b76ab4a122",
   "metadata": {},
   "outputs": [],
   "source": [
    "data2 = [1, 2, 3, 4, 5, 6, 7, 8, 9, 10]"
   ]
  },
  {
   "cell_type": "code",
   "execution_count": 30,
   "id": "509cc370-c760-48a3-add9-9b97f6c43aa3",
   "metadata": {},
   "outputs": [],
   "source": [
    "data2 = map(lambda x:str(x),data2)"
   ]
  },
  {
   "cell_type": "code",
   "execution_count": 31,
   "id": "49ea876a-1588-48cd-a423-07acd35caf17",
   "metadata": {},
   "outputs": [
    {
     "data": {
      "text/plain": [
       "('1', '2', '3', '4', '5', '6', '7', '8', '9', '10')"
      ]
     },
     "execution_count": 31,
     "metadata": {},
     "output_type": "execute_result"
    }
   ],
   "source": [
    "tuple(data2)"
   ]
  },
  {
   "cell_type": "code",
   "execution_count": null,
   "id": "5bcd6791-36d4-4acf-845a-70fd378a941f",
   "metadata": {},
   "outputs": [],
   "source": []
  },
  {
   "cell_type": "markdown",
   "id": "f9a1b9a3-e50e-423c-afb1-7d584b8a477c",
   "metadata": {},
   "source": [
    "## Q4. Write a python program using reduce function to compute the product of a list containing numbers from 1 to 25.\n",
    "### ANS"
   ]
  },
  {
   "cell_type": "code",
   "execution_count": 32,
   "id": "bd035d36-400e-44e3-98de-d536f938abef",
   "metadata": {},
   "outputs": [],
   "source": [
    "from functools import reduce\n"
   ]
  },
  {
   "cell_type": "code",
   "execution_count": 36,
   "id": "2cf9512e-04cf-4b2a-b155-11a93ab0b953",
   "metadata": {},
   "outputs": [],
   "source": [
    "data3=[]\n",
    "for i in range(1,26):\n",
    "    data3.append(i)"
   ]
  },
  {
   "cell_type": "code",
   "execution_count": 39,
   "id": "a3bd564c-3222-4ed8-b60c-4bf0056993ba",
   "metadata": {},
   "outputs": [
    {
     "data": {
      "text/plain": [
       "15511210043330985984000000"
      ]
     },
     "execution_count": 39,
     "metadata": {},
     "output_type": "execute_result"
    }
   ],
   "source": [
    "reduce(lambda x,y: x*y, data3)"
   ]
  },
  {
   "cell_type": "code",
   "execution_count": null,
   "id": "f3b952d5-cda1-4ea4-b52a-1e3af29f59a4",
   "metadata": {},
   "outputs": [],
   "source": []
  },
  {
   "cell_type": "markdown",
   "id": "e2b7252c-2f08-4495-a226-204e392f5d44",
   "metadata": {},
   "source": [
    "## Q5. Write a python program to filter the numbers in a given list that are divisible by 2 and 3 using the filter function. [2, 3, 6, 9, 27, 60, 90, 120, 55, 46]\n",
    "### ANS"
   ]
  },
  {
   "cell_type": "code",
   "execution_count": 40,
   "id": "67067681-829f-4fc0-ae7e-d6a192228787",
   "metadata": {},
   "outputs": [],
   "source": [
    "data4 =[2, 3, 6, 9, 27, 60, 90, 120, 55, 46]"
   ]
  },
  {
   "cell_type": "code",
   "execution_count": 43,
   "id": "7fb30cb8-77cc-44d3-adc5-3d34e3031faa",
   "metadata": {},
   "outputs": [],
   "source": [
    "data4=filter(lambda x : x%2==0 and x%3==0 ,data4)"
   ]
  },
  {
   "cell_type": "code",
   "execution_count": 45,
   "id": "2ef8f950-fedd-46eb-8617-875a19a0aa86",
   "metadata": {},
   "outputs": [
    {
     "data": {
      "text/plain": [
       "[6, 60, 90, 120]"
      ]
     },
     "execution_count": 45,
     "metadata": {},
     "output_type": "execute_result"
    }
   ],
   "source": [
    "list(data4)"
   ]
  },
  {
   "cell_type": "code",
   "execution_count": null,
   "id": "bd493e9d-e9b9-4402-a0f3-daf9c3ae973e",
   "metadata": {},
   "outputs": [],
   "source": []
  },
  {
   "cell_type": "markdown",
   "id": "15365ae1-41cf-4f30-9a0c-3dc745636255",
   "metadata": {},
   "source": [
    "## Q6. Write a python program to find palindromes in the given list of strings using lambda and filter function. ['python', 'php', 'aba', 'radar', 'level']\n",
    "### ANS"
   ]
  },
  {
   "cell_type": "code",
   "execution_count": 51,
   "id": "92009216-6878-440e-900a-c47c76e4a483",
   "metadata": {},
   "outputs": [
    {
     "data": {
      "text/plain": [
       "['php', 'aba', 'radar', 'level']"
      ]
     },
     "execution_count": 51,
     "metadata": {},
     "output_type": "execute_result"
    }
   ],
   "source": [
    "words = ['python', 'php', 'aba', 'radar', 'level']\n",
    "\n",
    "data4 =list(filter(lambda word: word == word[::-1],words))\n",
    "data4"
   ]
  },
  {
   "cell_type": "code",
   "execution_count": null,
   "id": "499da936-bf10-4eff-bae7-89402c40a013",
   "metadata": {},
   "outputs": [],
   "source": []
  }
 ],
 "metadata": {
  "kernelspec": {
   "display_name": "Python 3 (ipykernel)",
   "language": "python",
   "name": "python3"
  },
  "language_info": {
   "codemirror_mode": {
    "name": "ipython",
    "version": 3
   },
   "file_extension": ".py",
   "mimetype": "text/x-python",
   "name": "python",
   "nbconvert_exporter": "python",
   "pygments_lexer": "ipython3",
   "version": "3.10.8"
  }
 },
 "nbformat": 4,
 "nbformat_minor": 5
}
