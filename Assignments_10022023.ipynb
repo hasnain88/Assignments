{
 "cells": [
  {
   "cell_type": "markdown",
   "id": "c16636df-2afa-49c9-9c06-50cac0b61022",
   "metadata": {},
   "source": [
    "## Q1. Which function is used to open a file? What are the different modes of opening a file? Explain each mode of file opening."
   ]
  },
  {
   "cell_type": "markdown",
   "id": "ee613d30-cd4f-4fcc-8813-da8544f046d3",
   "metadata": {},
   "source": [
    "In Python, the built-in function used to open a file is open(). This function takes two arguments: the name of the file to be opened (including the file path, if necessary) and the mode in which the file should be opened.\n",
    "\n",
    "The different modes of opening a file in Python are as follows:\n",
    "\n",
    "Read mode (r): This mode is used to open a file for reading only. It is the default mode for open(). When a file is opened in read mode, its contents can be read, but not modified or written. Attempting to write to a file opened in read mode will result in a UnsupportedOperation error.\n",
    "\n",
    "Write mode (w): This mode is used to open a file for writing only. If the specified file already exists, its contents will be truncated (deleted) when it is opened in write mode. If the file does not exist, a new file will be created. Attempting to read from a file opened in write mode will result in a UnsupportedOperation error.\n",
    "\n",
    "Append mode (a): This mode is used to open a file for writing, but without truncating its contents. If the specified file already exists, any new data written to the file will be added to the end of the file. If the file does not exist, a new file will be created. Attempting to read from a file opened in append mode will result in a UnsupportedOperation error.\n",
    "\n",
    "Binary mode (b): This mode can be used with any of the other modes (r, w, or a) to indicate that the file should be opened in binary mode. In binary mode, the contents of the file are treated as binary data, rather than text data. This mode is useful when working with non-text files, such as images or audio files.\n",
    "\n",
    "Read and Write mode (r+): This mode is used to open a file for both reading and writing. When a file is opened in this mode, its contents can be both read and modified. If the specified file does not exist, a FileNotFoundError will be raised.\n",
    "\n",
    "Write and Read mode (w+): This mode is similar to r+ mode but truncates the file when opened. When a file is opened in this mode, its contents can be both read and modified. If the specified file does not exist, a new file will be created.\n",
    "\n",
    "Append and Read mode (a+): This mode is similar to r+ mode but the data is written at the end of the file. When a file is opened in this mode, its contents can be both read and modified. If the specified file does not exist, a new file will be created.\n",
    "\n",
    "Note that it is important to close the file after using it, using the close() method on the file object. If the file is not closed, it may not be saved properly and resources may not be released.\n",
    "\n",
    "\n",
    "\n",
    "\n",
    "\n"
   ]
  },
  {
   "cell_type": "code",
   "execution_count": null,
   "id": "19278e88-f61a-451c-b9e3-3e896ed40106",
   "metadata": {},
   "outputs": [],
   "source": []
  },
  {
   "cell_type": "markdown",
   "id": "c9948d1a-2800-4c92-afb6-40d1926c02a7",
   "metadata": {},
   "source": [
    "## Q2. Why close() function is used? Why is it important to close a file?"
   ]
  },
  {
   "cell_type": "markdown",
   "id": "966d7a27-043a-46da-b12a-2626fab20daa",
   "metadata": {},
   "source": [
    "The close() function is used to close a file after it has been opened and processed. It is important to close a file after using it because:\n",
    "\n",
    "Data consistency: If a file is not closed properly, any changes made to the file may not be saved properly. This can lead to data corruption and inconsistencies.\n",
    "\n",
    "Resource management: When a file is opened, system resources such as memory and file handles are allocated to the process. If a file is not closed properly, these resources may not be released, which can cause performance issues and even system crashes if too many files are left open.\n",
    "\n",
    "Availability for other programs: If a file is left open, it cannot be accessed by other programs until it is closed. This can cause problems if other programs need to access the file.\n",
    "\n",
    "Therefore, it is important to always close a file after using it, using the close() method on the file object. It is also a good practice to use the with statement when opening a file, as it automatically closes the file when the block of code inside the statement is exited, even in the case of an exception or error."
   ]
  },
  {
   "cell_type": "code",
   "execution_count": null,
   "id": "aad13a34-a3ba-44cc-8b6d-65d591847f35",
   "metadata": {},
   "outputs": [],
   "source": []
  },
  {
   "cell_type": "markdown",
   "id": "66710932-f302-48bc-8034-7becc83b2631",
   "metadata": {},
   "source": [
    "## Q3. Write a python program to create a text file. Write ‘I want to become a Data Scientist’ in that file. Then close the file. Open this file and read the content of the file.  "
   ]
  },
  {
   "cell_type": "code",
   "execution_count": 14,
   "id": "9b270f02-1185-463f-8abf-d57cdb032532",
   "metadata": {},
   "outputs": [
    {
     "name": "stdout",
     "output_type": "stream",
     "text": [
      "I want to become a Data Scientist\n"
     ]
    }
   ],
   "source": [
    "# Open a file in write mode\n",
    "file = open(\"data_scientist.txt\", \"w\")\n",
    "\n",
    "# Write a sentence to the file\n",
    "file.write(\"I want to become a Data Scientist\")\n",
    "\n",
    "# Close the file\n",
    "file.close()\n",
    "\n",
    "# Open the file in read mode\n",
    "file = open(\"data_scientist.txt\", \"r\")\n",
    "\n",
    "# Read the contents of the file\n",
    "content = file.read()\n",
    "\n",
    "# Print the contents of the file\n",
    "print(content)\n",
    "\n",
    "# Close the file\n",
    "file.close()"
   ]
  },
  {
   "cell_type": "code",
   "execution_count": null,
   "id": "263e589e-01ee-441b-8c6c-1b602964b8e7",
   "metadata": {},
   "outputs": [],
   "source": []
  },
  {
   "cell_type": "markdown",
   "id": "c2a2a0ea-41a0-4f22-8909-5745c9040db7",
   "metadata": {},
   "source": [
    "## Q4. Explain the following with python code: read(), readline() and readlines()."
   ]
  },
  {
   "cell_type": "markdown",
   "id": "c2d2c2ff-1133-4873-91ea-f5774744f4d1",
   "metadata": {},
   "source": [
    "In Python, there are three main methods for reading data from a file: read(), readline(), and readlines().\n",
    "\n",
    "Here's an explanation of each method along with an example Python code to demonstrate how they work:\n",
    "\n",
    "read(): This method reads the entire contents of a file as a string. It takes an optional argument that specifies the number of bytes to read from the file. If no argument is provided, it reads the entire file."
   ]
  },
  {
   "cell_type": "code",
   "execution_count": 15,
   "id": "466178ef-2867-4bf8-aae5-8ab9cb8ac3d1",
   "metadata": {},
   "outputs": [
    {
     "name": "stdout",
     "output_type": "stream",
     "text": [
      "I want to become a Data Scientist\n"
     ]
    }
   ],
   "source": [
    "# Open a file in read mode\n",
    "file = open(\"data_scientist.txt\", \"r\")\n",
    "\n",
    "# Read the entire contents of the file\n",
    "content = file.read()\n",
    "\n",
    "# Print the contents of the file\n",
    "print(content)\n",
    "\n",
    "# Close the file\n",
    "file.close()"
   ]
  },
  {
   "cell_type": "markdown",
   "id": "eb4d2553-d5a1-4cd1-aff7-f3d0674b53b9",
   "metadata": {},
   "source": [
    "readline(): This method reads a single line from a file as a string. It reads characters from the current position in the file until it encounters a newline character (\\n) or reaches the end of the file."
   ]
  },
  {
   "cell_type": "code",
   "execution_count": 16,
   "id": "9c3838df-996a-4b9f-b215-e46f82c2e941",
   "metadata": {},
   "outputs": [
    {
     "name": "stdout",
     "output_type": "stream",
     "text": [
      "I want to become a Data Scientist\n",
      "\n"
     ]
    }
   ],
   "source": [
    "# Open a file in read mode\n",
    "file = open(\"data_scientist.txt\", \"r\")\n",
    "\n",
    "# Read the first line of the file\n",
    "line1 = file.readline()\n",
    "\n",
    "# Print the first line of the file\n",
    "print(line1)\n",
    "\n",
    "# Read the second line of the file\n",
    "line2 = file.readline()\n",
    "\n",
    "# Print the second line of the file\n",
    "print(line2)\n",
    "\n",
    "# Close the file\n",
    "file.close()"
   ]
  },
  {
   "cell_type": "markdown",
   "id": "4fe26843-5f86-4df2-97cd-56932915e8db",
   "metadata": {},
   "source": [
    "readlines(): This method reads all lines of a file and returns them as a list of strings. Each string in the list represents a single line from the file."
   ]
  },
  {
   "cell_type": "code",
   "execution_count": 17,
   "id": "ba9824d1-e18c-4235-8236-a53d6339d95f",
   "metadata": {},
   "outputs": [
    {
     "name": "stdout",
     "output_type": "stream",
     "text": [
      "I want to become a Data Scientist\n"
     ]
    }
   ],
   "source": [
    "# Open a file in read mode\n",
    "file = open(\"data_scientist.txt\", \"r\")\n",
    "\n",
    "# Read all lines of the file\n",
    "lines = file.readlines()\n",
    "\n",
    "# Print all lines of the file\n",
    "for line in lines:\n",
    "    print(line)\n",
    "\n",
    "# Close the file\n",
    "file.close()"
   ]
  },
  {
   "cell_type": "markdown",
   "id": "81ed04f1-4db8-44ea-861a-6d020e155835",
   "metadata": {},
   "source": [
    "Note that in all three examples, we opened the file in read mode using the open() function and closed the file using the close() method."
   ]
  },
  {
   "cell_type": "code",
   "execution_count": null,
   "id": "031beb58-4495-4204-866e-267b7f9db6e5",
   "metadata": {},
   "outputs": [],
   "source": []
  },
  {
   "cell_type": "markdown",
   "id": "d3fa8c52-e17e-4cc7-8210-54459bf1affc",
   "metadata": {},
   "source": [
    "## Q5. Explain why with statement is used with open(). What is the advantage of using with statement and open() together?"
   ]
  },
  {
   "cell_type": "markdown",
   "id": "ba4736e7-513a-4090-b2a4-09eb129123e1",
   "metadata": {},
   "source": [
    "The with statement in Python is used in conjunction with the open() function to automatically close a file after it has been used. This ensures that the file is properly closed, even if an error occurs during the processing of the file."
   ]
  },
  {
   "cell_type": "code",
   "execution_count": 18,
   "id": "3ba49d25-9803-44cc-8d25-ade1aed25035",
   "metadata": {},
   "outputs": [
    {
     "name": "stdout",
     "output_type": "stream",
     "text": [
      "I want to become a Data Scientist\n"
     ]
    }
   ],
   "source": [
    "with open(\"data_scientist.txt\", \"r\") as file:\n",
    "    content = file.read()\n",
    "    print(content)"
   ]
  },
  {
   "cell_type": "markdown",
   "id": "9f41dd45-4778-4b0d-9333-eb87f78b0698",
   "metadata": {},
   "source": [
    "In this example, the with statement is used to open the file example.txt in read mode using the open() function. The file is automatically closed when the block of code inside the with statement is exited.\n",
    "\n",
    "The main advantage of using the with statement with open() is that it ensures that the file is properly closed, even if an exception or error occurs during the processing of the file. This is because the with statement guarantees that the close() method of the file object will be called when the block of code inside the with statement is exited, regardless of whether an exception occurs or not.\n",
    "\n",
    "Using with and open() together also makes the code cleaner and more readable, as it eliminates the need to explicitly call the close() method on the file object. It also makes the code more efficient, as the with statement automatically manages system resources, such as file handles, without the need for additional code."
   ]
  },
  {
   "cell_type": "code",
   "execution_count": null,
   "id": "ce0cbbb6-7024-4da6-b89f-0e784a5c5490",
   "metadata": {},
   "outputs": [],
   "source": []
  },
  {
   "cell_type": "markdown",
   "id": "64cfb5bf-ae7d-4566-b2e2-d7e7e3772a26",
   "metadata": {},
   "source": [
    "## Q6. Explain the write() and writelines() functions. Give a suitable example."
   ]
  },
  {
   "cell_type": "markdown",
   "id": "72b86d75-a944-413a-9f39-a3ca9960826d",
   "metadata": {},
   "source": [
    "write(): This function writes a string to a file. It takes a single argument, which is the string to be written to the file. If the file does not exist, it is created."
   ]
  },
  {
   "cell_type": "code",
   "execution_count": 19,
   "id": "428d3ac6-620e-4700-93bc-eafa430cc655",
   "metadata": {},
   "outputs": [],
   "source": [
    "# Open a file in write mode\n",
    "file = open(\"example.txt\", \"w\")\n",
    "\n",
    "# Write a string to the file\n",
    "file.write(\"This is an example file.\\n\")\n",
    "\n",
    "# Write another string to the file\n",
    "file.write(\"It contains some text.\\n\")\n",
    "\n",
    "# Close the file\n",
    "file.close()"
   ]
  },
  {
   "cell_type": "markdown",
   "id": "4e704d68-a2c4-4053-873d-04b36ca5ac2f",
   "metadata": {},
   "source": [
    "In this example, we opened the file example.txt in write mode using the open() function. We then used the write() function to write two strings to the file, separated by a newline character (\\n). Finally, we closed the file using the close() method.\n",
    "\n",
    "writelines(): This function writes a list of strings to a file. Each string in the list represents a single line to be written to the file. If the file does not exist, it is created."
   ]
  },
  {
   "cell_type": "code",
   "execution_count": 20,
   "id": "d6aed12f-d7f4-4dd7-84b6-5a2ac1abceba",
   "metadata": {},
   "outputs": [],
   "source": [
    "# Open a file in write mode\n",
    "file = open(\"example.txt\", \"w\")\n",
    "\n",
    "# Create a list of strings to write to the file\n",
    "lines = [\"This is line 1.\\n\", \"This is line 2.\\n\", \"This is line 3.\\n\"]\n",
    "\n",
    "# Write the list of strings to the file\n",
    "file.writelines(lines)\n",
    "\n",
    "# Close the file\n",
    "file.close()"
   ]
  },
  {
   "cell_type": "markdown",
   "id": "c5ef04c4-b947-454a-a78b-38da6d2db84d",
   "metadata": {},
   "source": [
    "In this example, we opened the file example.txt in write mode using the open() function. We then created a list of three strings, each representing a single line to be written to the file. We used the writelines() function to write the list of strings to the file. Finally, we closed the file using the close() method.\n",
    "\n",
    "Note that in both examples, we opened the file in write mode using the open() function and closed the file using the close() method."
   ]
  },
  {
   "cell_type": "code",
   "execution_count": null,
   "id": "6c334181-d450-4993-90cf-a8b0e5b32101",
   "metadata": {},
   "outputs": [],
   "source": []
  }
 ],
 "metadata": {
  "kernelspec": {
   "display_name": "Python 3 (ipykernel)",
   "language": "python",
   "name": "python3"
  },
  "language_info": {
   "codemirror_mode": {
    "name": "ipython",
    "version": 3
   },
   "file_extension": ".py",
   "mimetype": "text/x-python",
   "name": "python",
   "nbconvert_exporter": "python",
   "pygments_lexer": "ipython3",
   "version": "3.10.8"
  }
 },
 "nbformat": 4,
 "nbformat_minor": 5
}
