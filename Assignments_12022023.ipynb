{
 "cells": [
  {
   "cell_type": "markdown",
   "id": "9e39a06a-c336-47ba-b0f0-8b530de30888",
   "metadata": {},
   "source": [
    "## Q1: What is an Exception in Python? Write the difference between Exceptions and Syntax errors."
   ]
  },
  {
   "cell_type": "markdown",
   "id": "bfcf8e51-7413-4dc3-a373-b48c44c2dabc",
   "metadata": {},
   "source": [
    "## ANS\n",
    "In Python, an exception is an event that occurs during the execution of a program that disrupts the normal flow of the program's instructions. When an exception is raised, it indicates that an error or unexpected condition has occurred that needs to be handled."
   ]
  },
  {
   "cell_type": "markdown",
   "id": "2ca678cc-3163-4ad0-9608-7def70c30c15",
   "metadata": {},
   "source": [
    "Exceptions and Syntax errors are both types of errors that can occur in a Python program, but they differ in their causes and how they are handled:\n",
    "\n",
    "Syntax Errors:\n",
    "Syntax errors occur when the interpreter encounters code that does not conform to the Python syntax rules. These errors are typically caused by typos, missing or incorrect indentation, or using invalid Python keywords or operators."
   ]
  },
  {
   "cell_type": "markdown",
   "id": "935bf020-2605-4b02-9336-bbfb494ec085",
   "metadata": {},
   "source": [
    "Exceptions:\n",
    "Exceptions occur during the execution of a program when the interpreter encounters an error or unexpected condition that disrupts the normal flow of the program. These errors are not caused by syntax issues, but by logical errors, runtime issues, or external factors like input/output errors."
   ]
  },
  {
   "cell_type": "markdown",
   "id": "d5d0453c-0195-4379-beac-5a796e5f0215",
   "metadata": {},
   "source": [
    "## Q2: What happens when an Exception is not handled? Explain with an Example."
   ]
  },
  {
   "cell_type": "markdown",
   "id": "63a472d9-c2ae-4140-bfb6-5f03c88ca25a",
   "metadata": {},
   "source": [
    "## ANS"
   ]
  },
  {
   "cell_type": "markdown",
   "id": "ef3c9cfa-3648-42ee-b4b0-18b5c809c84e",
   "metadata": {},
   "source": [
    "When an exception is not handled, the Python interpreter will print a traceback message and stop executing the program. This means that any code after the line where the exception occurred will not be executed, and the program will terminate abruptly.\n",
    "\n",
    "Here's an example that raises an exception but does not handle it:"
   ]
  },
  {
   "cell_type": "code",
   "execution_count": 2,
   "id": "fdf6cb69-a2b2-4de1-9741-e6d4abf9768a",
   "metadata": {},
   "outputs": [
    {
     "ename": "ZeroDivisionError",
     "evalue": "division by zero",
     "output_type": "error",
     "traceback": [
      "\u001b[0;31m---------------------------------------------------------------------------\u001b[0m",
      "\u001b[0;31mZeroDivisionError\u001b[0m                         Traceback (most recent call last)",
      "Cell \u001b[0;32mIn[2], line 1\u001b[0m\n\u001b[0;32m----> 1\u001b[0m x \u001b[38;5;241m=\u001b[39m \u001b[38;5;241;43m1\u001b[39;49m\u001b[38;5;241;43m/\u001b[39;49m\u001b[38;5;241;43m0\u001b[39;49m\n\u001b[1;32m      2\u001b[0m \u001b[38;5;28mprint\u001b[39m(\u001b[38;5;124m\"\u001b[39m\u001b[38;5;124mThis line will not be executed\u001b[39m\u001b[38;5;124m\"\u001b[39m)\n",
      "\u001b[0;31mZeroDivisionError\u001b[0m: division by zero"
     ]
    }
   ],
   "source": [
    "x = 1/0\n",
    "print(\"This line will not be executed\")"
   ]
  },
  {
   "cell_type": "markdown",
   "id": "3e1bf251-4ca4-4346-9a23-129ff99e6e1b",
   "metadata": {},
   "source": [
    "In this example, an attempt to divide the integer 1 by zero will result in a ZeroDivisionError. Since there is no try/except block to handle the exception, the Python interpreter will print a traceback message and stop executing the program:"
   ]
  },
  {
   "cell_type": "markdown",
   "id": "2a83cb32-9573-4165-b769-c9b417c7a884",
   "metadata": {},
   "source": [
    "if we handled Exception then proram will not stop"
   ]
  },
  {
   "cell_type": "code",
   "execution_count": 3,
   "id": "a3624274-01eb-4547-b687-a545d5c90bd3",
   "metadata": {},
   "outputs": [
    {
     "name": "stdout",
     "output_type": "stream",
     "text": [
      "Error: could not convert string to integer\n"
     ]
    }
   ],
   "source": [
    "try:\n",
    "    x = int(\"abc\")\n",
    "except ValueError:\n",
    "    print(\"Error: could not convert string to integer\")"
   ]
  },
  {
   "cell_type": "markdown",
   "id": "2893681b-81c4-40a7-8eaa-b34c986f075c",
   "metadata": {},
   "source": [
    "## Q3: Which Python Statement are used to catch and handle exception? Explain with an example."
   ]
  },
  {
   "cell_type": "markdown",
   "id": "f2a04f34-9b55-4b52-a042-ab4fcb7e1243",
   "metadata": {},
   "source": [
    "## ANS\n",
    "In Python, the 'try' and 'except' statements are used to catch and handle exceptions.\n",
    "\n",
    "The try block contains the code that may raise an exception, and the except block contains the code that will be executed if an exception is raised. If no exception is raised, the except block will be skipped.\n",
    "\n",
    "Here's an example that demonstrates how to use try and except to catch and handle an exception:"
   ]
  },
  {
   "cell_type": "code",
   "execution_count": 4,
   "id": "5ff2569e-ff8d-4569-b927-66ace2e1c505",
   "metadata": {},
   "outputs": [
    {
     "name": "stdout",
     "output_type": "stream",
     "text": [
      "Error: could not convert string to integer\n"
     ]
    }
   ],
   "source": [
    "try:\n",
    "    x = int(\"abc\")\n",
    "except ValueError:\n",
    "    print(\"Error: could not convert string to integer\")\n",
    "except ZeroDivisionError:\n",
    "    print(\"Error: division by zero\")"
   ]
  },
  {
   "cell_type": "markdown",
   "id": "cb4c2fad-cab8-4248-9047-5d8c6f60769b",
   "metadata": {},
   "source": [
    "## Q4: Explain with an example:\n",
    "## a. try and else\n",
    "## b. finally\n",
    "## c. rise"
   ]
  },
  {
   "cell_type": "markdown",
   "id": "fae12078-daa3-444f-8f17-dc8f9550dfab",
   "metadata": {},
   "source": [
    "## ANS"
   ]
  },
  {
   "cell_type": "code",
   "execution_count": null,
   "id": "0caf7b32-eb70-4750-9c2d-ad87c1e5cc87",
   "metadata": {},
   "outputs": [],
   "source": [
    "try:\n",
    "    # code that may raise an exception\n",
    "except:\n",
    "    # code to handle the exception\n",
    "else:\n",
    "    # code to execute if no exception is raised"
   ]
  },
  {
   "cell_type": "code",
   "execution_count": 11,
   "id": "04dd6573-d33a-4eab-9129-e2eb8f4606e1",
   "metadata": {},
   "outputs": [
    {
     "name": "stdin",
     "output_type": "stream",
     "text": [
      "Enter a number:  25\n"
     ]
    },
    {
     "name": "stdout",
     "output_type": "stream",
     "text": [
      "You entered the number: 25\n"
     ]
    }
   ],
   "source": [
    "try:\n",
    "    x = int(input(\"Enter a number: \"))\n",
    "except ValueError:\n",
    "    print(\"Error: could not convert input to integer\")\n",
    "else:\n",
    "    print(\"You entered the number:\", x)"
   ]
  },
  {
   "cell_type": "code",
   "execution_count": null,
   "id": "f713592b-6b2a-4476-88f3-e797172aab55",
   "metadata": {},
   "outputs": [],
   "source": []
  },
  {
   "cell_type": "code",
   "execution_count": null,
   "id": "41485707-893c-47d9-a899-8251a98092a0",
   "metadata": {},
   "outputs": [],
   "source": [
    "try:\n",
    "    # code that may raise an exception\n",
    "except:\n",
    "    # code to handle the exception\n",
    "finally:\n",
    "    # code to execute whether an exception was raised or not"
   ]
  },
  {
   "cell_type": "code",
   "execution_count": null,
   "id": "9a69fcdb-a461-46e8-83db-fd7f162a1b74",
   "metadata": {},
   "outputs": [],
   "source": [
    "try:\n",
    "    f = open(\"example.txt\")\n",
    "    lines = f.readlines()\n",
    "except IOError:\n",
    "    print(\"Error: could not read file\")\n",
    "finally:\n",
    "    f.close()"
   ]
  },
  {
   "cell_type": "code",
   "execution_count": null,
   "id": "47fc9be0-7283-4f03-b273-5458fbe24051",
   "metadata": {},
   "outputs": [],
   "source": []
  },
  {
   "cell_type": "code",
   "execution_count": 12,
   "id": "62050cc2-fc7d-4549-8bdc-9c0f443bd26e",
   "metadata": {},
   "outputs": [
    {
     "name": "stdout",
     "output_type": "stream",
     "text": [
      "division by zero\n"
     ]
    }
   ],
   "source": [
    "def divide(x, y):\n",
    "    if y == 0:\n",
    "        raise ZeroDivisionError(\"division by zero\")\n",
    "    return x / y\n",
    "\n",
    "try:\n",
    "    result = divide(10, 0)\n",
    "except ZeroDivisionError as e:\n",
    "    print(e)"
   ]
  },
  {
   "cell_type": "code",
   "execution_count": null,
   "id": "34d39aca-6415-4f4f-a45e-33516b03b8b1",
   "metadata": {},
   "outputs": [],
   "source": []
  },
  {
   "cell_type": "markdown",
   "id": "b4b8ec91-2880-4bd5-ad81-01e85252efaa",
   "metadata": {},
   "source": [
    "## Q5. What are custom exception in Python? Why do we need custom exceptions? Explain with an example."
   ]
  },
  {
   "cell_type": "markdown",
   "id": "a54fd111-517d-43d3-86cc-37c2dfe6e7a4",
   "metadata": {},
   "source": [
    "## ANS"
   ]
  },
  {
   "cell_type": "markdown",
   "id": "c2a569da-4695-41b2-8540-72de72ff673b",
   "metadata": {},
   "source": [
    "In Python, you can create your own custom exception classes to handle specific error conditions in your code. Custom exception classes allow you to define and raise exceptions that are tailored to your application's needs, making it easier to diagnose and handle errors that occur during runtime.\n",
    "\n",
    "To create a custom exception class, you can simply define a new class that inherits from the built-in Exception class. Here's an example:"
   ]
  },
  {
   "cell_type": "markdown",
   "id": "29420ec6-6c0f-4361-947c-919ff5fe2774",
   "metadata": {},
   "source": [
    "Custom exceptions are useful when you want to handle specific error conditions in your code that are not covered by built-in exceptions or when you want to provide more information about the cause of an error to the user or developer. Here are some reasons why you might need custom exceptions:\n",
    "\n",
    "Better error messages: Custom exceptions allow you to provide more detailed and informative error messages than the built-in exceptions. This can help users and developers diagnose and fix errors more quickly and effectively.\n",
    "\n",
    "Easier to catch: Custom exceptions can be designed to be more specific than the built-in exceptions, making them easier to catch and handle in your code. This can reduce the risk of unintended consequences and improve the robustness of your application.\n",
    "\n",
    "Better organization: Custom exceptions can help you organize your code more effectively by grouping related error conditions together. This can make your code easier to read and maintain over time.\n",
    "\n",
    "Improved readability: Custom exceptions can make your code more readable by making it clear what error conditions your code is designed to handle. This can help other developers understand your code more easily and reduce the risk of errors and bugs.\n",
    "\n",
    "Overall, custom exceptions are a powerful tool for improving the reliability and usability of your code. By defining your own exception classes, you can make your code more robust, easier to maintain, and more user-friendly."
   ]
  },
  {
   "cell_type": "code",
   "execution_count": 16,
   "id": "61c99e3e-1dde-4f8b-b959-85e6c8a8fabf",
   "metadata": {},
   "outputs": [],
   "source": [
    "class ValidateAge(Exception):\n",
    "    def __init__(self, msg):\n",
    "        self.msg =msg"
   ]
  },
  {
   "cell_type": "code",
   "execution_count": 20,
   "id": "a07bd6c2-993d-421d-a5ba-d9efb273fe99",
   "metadata": {},
   "outputs": [
    {
     "name": "stdin",
     "output_type": "stream",
     "text": [
      "Enter your Age.... :  0\n"
     ]
    },
    {
     "name": "stdout",
     "output_type": "stream",
     "text": [
      "Entered age is to low...\n"
     ]
    }
   ],
   "source": [
    "def validate_age(age):\n",
    "    if age <= 0:\n",
    "        raise ValidateAge(\"Entered age is to low...\")\n",
    "    elif age > 200:\n",
    "        raise ValidateAge(\"Entered age is to High...\")\n",
    "    else:\n",
    "        print(\"Age is Valid\")\n",
    "\n",
    "try:\n",
    "    age = int(input(\"Enter your Age.... : \"))\n",
    "    validate_age(age)\n",
    "except ValidateAge as e:\n",
    "              print(e)\n",
    "            \n",
    "        "
   ]
  },
  {
   "cell_type": "markdown",
   "id": "dc527f71-e924-47a3-b336-f4c563dd7a04",
   "metadata": {},
   "source": [
    "## Q6: Create a custom exception class. Use this class to handle an exception."
   ]
  },
  {
   "cell_type": "markdown",
   "id": "30ae19fb-7e22-435f-836d-b34479a18558",
   "metadata": {},
   "source": [
    "## ANS"
   ]
  },
  {
   "cell_type": "code",
   "execution_count": 21,
   "id": "fc2b640e-28ca-4893-a9e1-70eebb7f2b2b",
   "metadata": {},
   "outputs": [
    {
     "name": "stdin",
     "output_type": "stream",
     "text": [
      "Enter your Age.... :  25\n"
     ]
    },
    {
     "name": "stdout",
     "output_type": "stream",
     "text": [
      "Age is Valid\n"
     ]
    }
   ],
   "source": [
    "class ValidateAge(Exception):\n",
    "    def __init__(self, msg):\n",
    "        self.msg =msg\n",
    "\n",
    "        \n",
    "def validate_age(age):\n",
    "    if age <= 0:\n",
    "        raise ValidateAge(\"Entered age is to low...\")\n",
    "    elif age > 200:\n",
    "        raise ValidateAge(\"Entered age is to High...\")\n",
    "    else:\n",
    "        print(\"Age is Valid\")\n",
    "\n",
    "try:\n",
    "    age = int(input(\"Enter your Age.... : \"))\n",
    "    validate_age(age)\n",
    "except ValidateAge as e:\n",
    "              print(e)"
   ]
  },
  {
   "cell_type": "code",
   "execution_count": null,
   "id": "413a5594-97c4-466a-8731-679b0b3778b9",
   "metadata": {},
   "outputs": [],
   "source": []
  }
 ],
 "metadata": {
  "kernelspec": {
   "display_name": "Python 3 (ipykernel)",
   "language": "python",
   "name": "python3"
  },
  "language_info": {
   "codemirror_mode": {
    "name": "ipython",
    "version": 3
   },
   "file_extension": ".py",
   "mimetype": "text/x-python",
   "name": "python",
   "nbconvert_exporter": "python",
   "pygments_lexer": "ipython3",
   "version": "3.10.8"
  }
 },
 "nbformat": 4,
 "nbformat_minor": 5
}
